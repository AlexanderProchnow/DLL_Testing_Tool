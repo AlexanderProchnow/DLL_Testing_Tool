{
 "cells": [
  {
   "cell_type": "markdown",
   "id": "02883f5c",
   "metadata": {},
   "source": [
    "# Finding relevant code changes in frameworks and packages\n",
    "\n",
    "The goal of this notebook is to track evolving code bases by first extracting changes made via the git log. These can then be filtered for the correct timeframe and relevant functions. The next step would then be to analyse the changes and decide whether they are relevant to a developer that uses that part of the code for differential testing or not."
   ]
  },
  {
   "cell_type": "markdown",
   "id": "3926e1fd",
   "metadata": {},
   "source": [
    "## Imports"
   ]
  },
  {
   "cell_type": "code",
   "execution_count": 1,
   "id": "c0cda01e",
   "metadata": {},
   "outputs": [],
   "source": [
    "import os"
   ]
  },
  {
   "cell_type": "markdown",
   "id": "179f31cf",
   "metadata": {},
   "source": [
    "## Setup\n",
    "\n",
    "Paste the github giturl of the library you would like to analyse in the following cell:"
   ]
  },
  {
   "cell_type": "code",
   "execution_count": 2,
   "id": "4314862a",
   "metadata": {},
   "outputs": [],
   "source": [
    "#git_url = \"https://github.com/pytorch/pytorch.git\"\n",
    "git_url = \"https://github.com/scipy/scipy.git\""
   ]
  },
  {
   "cell_type": "markdown",
   "id": "9aadcaa6",
   "metadata": {},
   "source": [
    "## Create a bare clone of the library, which only includes repository data\n",
    "\n",
    "In this way, we do not have to download the code, but still get access to the commit log."
   ]
  },
  {
   "cell_type": "code",
   "execution_count": 3,
   "id": "88b20f04",
   "metadata": {},
   "outputs": [],
   "source": [
    "# create a temporary directory for a bare clone of a give library\n",
    "try:\n",
    "    os.mkdir('temp_bare_clone_scipy')\n",
    "except:\n",
    "    pass"
   ]
  },
  {
   "cell_type": "code",
   "execution_count": 4,
   "id": "8ed9f189",
   "metadata": {},
   "outputs": [
    {
     "name": "stderr",
     "output_type": "stream",
     "text": [
      "Cloning into bare repository 'temp_bare_clone_scipy'...\n"
     ]
    }
   ],
   "source": [
    "# create the bare clone\n",
    "!git clone --bare {git_url} temp_bare_clone_scipy"
   ]
  },
  {
   "cell_type": "code",
   "execution_count": 6,
   "id": "b05947d8",
   "metadata": {
    "scrolled": true
   },
   "outputs": [
    {
     "name": "stdout",
     "output_type": "stream",
     "text": [
      "A:\\BachelorThesis\\DLL_Testing_Tool\\Code\\2_Commit_Extraction_and_Analysis\\temp_bare_clone_scipy\n"
     ]
    }
   ],
   "source": [
    "%cd temp_bare_clone_scipy"
   ]
  },
  {
   "cell_type": "markdown",
   "id": "0f708356",
   "metadata": {},
   "source": [
    "### Testing git log functions\n",
    "\n",
    "-p shows the diffs\n",
    "\n",
    "Hunks of differences are in the format @@ from-file-range to-file-range @@ [header].  \n",
    "The from-file-range is in the form -\\<start line\\>,\\<number of lines\\>, and to-file-range is +\\<start line\\>,\\<number of lines\\>"
   ]
  },
  {
   "cell_type": "code",
   "execution_count": 38,
   "id": "8643bbc1",
   "metadata": {
    "scrolled": false
   },
   "outputs": [
    {
     "name": "stdout",
     "output_type": "stream",
     "text": [
      "eb6632197cdf4f8eecbfcd95c3c25c57d50aaad4 DEV: Update Boschloo Exact test (#14178)\n",
      "diff --git a/scipy/stats/_hypotests.py b/scipy/stats/_hypotests.py\n",
      "index fc34e77e2..a5dd37b08 100644\n",
      "--- a/scipy/stats/_hypotests.py\n",
      "+++ b/scipy/stats/_hypotests.py\n",
      "@@ -1019,13 +1019,13 @@ def boschloo_exact(table, alternative=\"two-sided\", n=32):\n",
      "     probabilities for  :math:`x_{11}` and :math:`x_{12}`. When using\n",
      "     Boschloo exact test, we can assert three different null hypotheses :\n",
      " \n",
      "-    - :math:`H_0 : p_1 \\geq p_2` versus :math:`H_1 : p_1 < p_2`,\n",
      "+    - :math:`H_0 : p_1=p_2` versus :math:`H_1 : p_1 < p_2`,\n",
      "       with `alternative` = \"less\"\n",
      " \n",
      "-    - :math:`H_0 : p_1 \\leq p_2` versus :math:`H_1 : p_1 > p_2`,\n",
      "+    - :math:`H_0 : p_1=p_2` versus :math:`H_1 : p_1 > p_2`,\n",
      "       with `alternative` = \"greater\"\n",
      " \n",
      "-    - :math:`H_0 : p_1 = p_2` versus :math:`H_1 : p_1 \\neq p_2`,\n",
      "+    - :math:`H_0 : p_1=p_2` versus :math:`H_1 : p_1 \\neq p_2`,\n",
      "       with `alternative` = \"two-sided\" (default one)\n",
      " \n",
      "     Boschloo's exact test uses the p-value of Fisher's exact test as a \n",
      "@@ -1143,7 +1143,11 @@ def boschloo_exact(table, alternative=\"two-sided\", n=32):\n",
      "         raise ValueError(msg)\n",
      " \n",
      "     fisher_stat = pvalues[table[0, 0], table[0, 1]]\n",
      "-    index_arr = pvalues <= fisher_stat\n",
      "+\n",
      "+    # fisher_stat * (1+1e-13) guards us from small numerical error. It is\n",
      "+    # equivalent to np.isclose with relative tol of 1e-13 and absolute tol of 0\n",
      "+    # For more throughout explanations, see gh-14178\n",
      "+    index_arr = pvalues <= fisher_stat * (1+1e-13)\n",
      " \n",
      "     x1, x2, x1_sum_x2 = x1.T, x2.T, x1_sum_x2.T\n",
      "     x1_log_comb = _compute_log_combinations(total_col_1)\n",
      "diff --git a/scipy/stats/tests/test_hypotests.py b/scipy/stats/tests/test_hypotests.py\n",
      "index f24c29b74..d4732a3ff 100644\n",
      "--- a/scipy/stats/tests/test_hypotests.py\n",
      "+++ b/scipy/stats/tests/test_hypotests.py\n",
      "@@ -1018,12 +1018,7 @@ class TestBoschlooExact:\n",
      "             ([[5, 16], [20, 25]], (0.08913823, 0.05827348)),\n",
      "             ([[10, 5], [10, 1]], (0.1652174, 0.08565611)),\n",
      "             ([[5, 0], [1, 4]], (1, 1)),\n",
      "-            pytest.param(\n",
      "-                [[0, 1], [3, 2]], (0.5, 0.34375),\n",
      "-                marks=pytest.mark.xfail(\n",
      "-                    run=False,\n",
      "-                    reason=\"This test is sensitive to machine epsilon level\"),\n",
      "-            ),\n",
      "+            ([[0, 1], [3, 2]], (0.5, 0.34375)),\n",
      "             ([[2, 7], [8, 2]], (0.01852173, 0.009886142)),\n",
      "             ([[7, 12], [8, 3]], (0.06406797, 0.03410916)),\n",
      "             ([[10, 24], [25, 37]], (0.2009359, 0.1512882)),\n",
      "@@ -1083,12 +1078,7 @@ class TestBoschlooExact:\n",
      "             ([[5, 1], [10, 10]], (0.1652174, 0.1801707)),\n",
      "             ([[5, 16], [20, 25]], (0.08913823, 0.116547)),\n",
      "             ([[5, 0], [1, 4]], (0.02380952, 0.01373073)),\n",
      "-            pytest.param(\n",
      "-                 [[0, 1], [3, 2]], (0.5, 0.6875),\n",
      "-                 marks=pytest.mark.xfail(\n",
      "-                     run=False,\n",
      "-                     reason=\"This test is sensitive to machine epsilon level\"),\n",
      "-             ),\n",
      "+            ([[0, 1], [3, 2]], (0.5, 0.6875)),\n",
      "             ([[2, 7], [8, 2]], (0.01852173, 0.01977228)),\n",
      "             ([[7, 12], [8, 3]], (0.06406797, 0.06821831)),\n",
      "         ],\n",
      "a3af5699618d004b1f4380b6bd7669f310ad840f MAINT: move LSAP maximization handling into solver code\n",
      "diff --git a/scipy/optimize/_lsap.py b/scipy/optimize/_lsap.py\n",
      "index 985163ebd..208a9301b 100644\n",
      "--- a/scipy/optimize/_lsap.py\n",
      "+++ b/scipy/optimize/_lsap.py\n",
      "@@ -94,7 +94,4 @@ def linear_sum_assignment(cost_matrix, maximize=False):\n",
      "         raise ValueError(\"expected a matrix containing numerical entries, got %s\"\n",
      "                          % (cost_matrix.dtype,))\n",
      " \n",
      "-    if maximize:\n",
      "-        cost_matrix = -cost_matrix\n",
      "-\n",
      "-    return _lsap_module.calculate_assignment(cost_matrix)\n",
      "+    return _lsap_module.calculate_assignment(cost_matrix, maximize)\n",
      "diff --git a/scipy/optimize/_lsap_module.c b/scipy/optimize/_lsap_module.c\n",
      "index 5ad25ae81..f63ff9e6c 100644\n",
      "--- a/scipy/optimize/_lsap_module.c\n",
      "+++ b/scipy/optimize/_lsap_module.c\n",
      "@@ -39,7 +39,8 @@ calculate_assignment(PyObject* self, PyObject* args)\n",
      "     PyObject* b = NULL;\n",
      "     PyObject* result = NULL;\n",
      "     PyObject* obj_cost = NULL;\n",
      "-    if (!PyArg_ParseTuple(args, \"O\", &obj_cost))\n",
      "+    int maximize = 0;\n",
      "+    if (!PyArg_ParseTuple(args, \"Op\", &obj_cost, &maximize))\n",
      "         return NULL;\n",
      " \n",
      "     PyArrayObject* obj_cont =\n",
      "@@ -67,7 +68,7 @@ calculate_assignment(PyObject* self, PyObject* args)\n",
      "         goto cleanup;\n",
      " \n",
      "     int ret = solve_rectangular_linear_sum_assignment(\n",
      "-      num_rows, num_cols, cost_matrix,\n",
      "+      num_rows, num_cols, cost_matrix, maximize,\n",
      "       PyArray_DATA((PyArrayObject*)a),\n",
      "       PyArray_DATA((PyArrayObject*)b));\n",
      "     if (ret == RECTANGULAR_LSAP_INFEASIBLE) {\n",
      "diff --git a/scipy/optimize/rectangular_lsap/rectangular_lsap.cpp b/scipy/optimize/rectangular_lsap/rectangular_lsap.cpp\n",
      "index 6edb3f7ce..570b72edc 100644\n",
      "--- a/scipy/optimize/rectangular_lsap/rectangular_lsap.cpp\n",
      "+++ b/scipy/optimize/rectangular_lsap/rectangular_lsap.cpp\n",
      "@@ -128,7 +128,8 @@ augmenting_path(intptr_t nc, std::vector<double>& cost, std::vector<double>& u,\n",
      " }\n",
      " \n",
      " static int\n",
      "-solve(intptr_t nr, intptr_t nc, double* input_cost, int64_t* a, int64_t* b)\n",
      "+solve(intptr_t nr, intptr_t nc, double* input_cost, bool maximize,\n",
      "+      int64_t* a, int64_t* b)\n",
      " {\n",
      "     // handle trivial inputs\n",
      "     if (nr == 0 || nc == 0) {\n",
      "@@ -149,6 +150,13 @@ solve(intptr_t nr, intptr_t nc, double* input_cost, int64_t* a, int64_t* b)\n",
      "         std::swap(nr, nc);\n",
      "     }\n",
      " \n",
      "+    // negate cost matrix for maximization\n",
      "+    if (maximize) {\n",
      "+        for (intptr_t i = 0; i < nr * nc; i++) {\n",
      "+            cost[i] = -cost[i];\n",
      "+        }\n",
      "+    }\n",
      "+\n",
      "     // build a non-negative cost matrix\n",
      "     double minval = *std::min_element(cost.begin(), cost.end());\n",
      "     for (intptr_t i = 0; i < nr * nc; i++) {\n",
      "@@ -230,10 +238,11 @@ extern \"C\" {\n",
      " #endif\n",
      " \n",
      " int\n",
      "-solve_rectangular_linear_sum_assignment(intptr_t nr, intptr_t nc, double* input_cost,\n",
      "+solve_rectangular_linear_sum_assignment(intptr_t nr, intptr_t nc,\n",
      "+                                        double* input_cost, bool maximize,\n",
      "                                         int64_t* a, int64_t* b)\n",
      " {\n",
      "-    return solve(nr, nc, input_cost, a, b);\n",
      "+    return solve(nr, nc, input_cost, maximize, a, b);\n",
      " }\n",
      " \n",
      " #ifdef __cplusplus\n",
      "diff --git a/scipy/optimize/rectangular_lsap/rectangular_lsap.h b/scipy/optimize/rectangular_lsap/rectangular_lsap.h\n",
      "index 278bbd82c..d37801b8d 100644\n",
      "--- a/scipy/optimize/rectangular_lsap/rectangular_lsap.h\n",
      "+++ b/scipy/optimize/rectangular_lsap/rectangular_lsap.h\n",
      "@@ -39,8 +39,10 @@ extern \"C\" {\n",
      " #endif\n",
      " \n",
      " #include <stdint.h>\n",
      "+#include <stdbool.h>\n",
      " \n",
      "-int solve_rectangular_linear_sum_assignment(intptr_t nr, intptr_t nc, double* input_cost,\n",
      "+int solve_rectangular_linear_sum_assignment(intptr_t nr, intptr_t nc,\n",
      "+                                            double* input_cost, bool maximize,\n",
      "                                             int64_t* a, int64_t* b);\n",
      " \n",
      " #ifdef __cplusplus\n"
     ]
    }
   ],
   "source": [
    "!git log --date=local --since=\"8 hours ago\" -p --pretty=oneline"
   ]
  }
 ],
 "metadata": {
  "kernelspec": {
   "display_name": "Python 3",
   "language": "python",
   "name": "python3"
  },
  "language_info": {
   "codemirror_mode": {
    "name": "ipython",
    "version": 3
   },
   "file_extension": ".py",
   "mimetype": "text/x-python",
   "name": "python",
   "nbconvert_exporter": "python",
   "pygments_lexer": "ipython3",
   "version": "3.9.4"
  }
 },
 "nbformat": 4,
 "nbformat_minor": 5
}
