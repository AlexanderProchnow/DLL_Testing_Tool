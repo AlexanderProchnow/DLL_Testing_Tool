{
 "cells": [
  {
   "cell_type": "markdown",
   "id": "02883f5c",
   "metadata": {},
   "source": [
    "# Finding relevant code changes in frameworks and packages\n",
    "\n",
    "The goal of this notebook is to track evolving code bases by first extracting changes made via the git log. These can then be filtered for the correct timeframe and relevant functions. The next step would then be to analyse the changes and decide whether they are relevant to a developer that uses that part of the code for differential testing or not."
   ]
  },
  {
   "cell_type": "markdown",
   "id": "3926e1fd",
   "metadata": {},
   "source": [
    "## Imports"
   ]
  },
  {
   "cell_type": "code",
   "execution_count": 24,
   "id": "c0cda01e",
   "metadata": {},
   "outputs": [],
   "source": [
    "import os\n",
    "import inspect\n",
    "import pandas as pd\n",
    "from datetime import date, timedelta\n",
    "import sys\n",
    "import subprocess\n",
    "\n",
    "import numpy as np\n",
    "#from scipy import stats"
   ]
  },
  {
   "cell_type": "markdown",
   "id": "179f31cf",
   "metadata": {},
   "source": [
    "## Setup: User Input\n",
    "\n",
    "* The user inputs the package that they would like to update and the Deep Learning Library. \n",
    "* They then inputs the current version of the package that the DLL is using and the one that they would like to upgrade to (default: most recent version). The version is here simplified to release dates for now, since this is easier to handle for git diff.\n",
    "* If the Github Link for that package is not stored, they then input the Github Link for that package.\n"
   ]
  },
  {
   "cell_type": "code",
   "execution_count": 22,
   "id": "6c4c51b7",
   "metadata": {},
   "outputs": [],
   "source": [
    "# Input 1: Package name\n",
    "package_name = 'keras'\n",
    "\n",
    "# Input 2: Deep Learning Library name and directory\n",
    "dll_name = 'tensorflow'\n",
    "dll_directory = 'A:/BachelorThesis/DLL_Testing_Tool/DL_Libraries/Tensorflow/tensorflow-1.12.0/tensorflow/python/'\n",
    "\n",
    "# Input 3: Current version (i.e. date for simplicity) of the package (and optionally the desired version)\n",
    "# format: day-month-year hour:minute:second\n",
    "current_version_date = '01-01-2021 00:00:00' \n",
    "desired_version_date = date.today()#.strftime(\"%d-%m-%Y %H:%M:%S\")\n",
    "\n",
    "# Input 4: Github Link (if not stored by the tool)\n",
    "git_url = 'https://github.com/keras-team/keras.git'"
   ]
  },
  {
   "cell_type": "code",
   "execution_count": 23,
   "id": "3c570fc7",
   "metadata": {},
   "outputs": [],
   "source": [
    "# Input 1: Package name\n",
    "package_name = 'tensorflow'\n",
    "\n",
    "# Input 2: Deep Learning Library name and directory\n",
    "dll_name = 'tensorflow'\n",
    "dll_directory = 'A:/BachelorThesis/DLL_Testing_Tool/DL_Libraries/Tensorflow/tensorflow-1.12.0/tensorflow/python/'\n",
    "\n",
    "# Input 3: Current version (i.e. date for simplicity) of the package (and optionally the desired version)\n",
    "# format: day-month-year hour:minute:second\n",
    "current_version_date = date(2021, 1, 1) # '01-01-2021 00:00:00' \n",
    "desired_version_date = date.today()#.strftime(\"%d-%m-%Y %H:%M:%S\")\n",
    "\n",
    "# Input 4: Github Link (if not stored by the tool)\n",
    "git_url = \"https://github.com/tensorflow/tensorflow.git\""
   ]
  },
  {
   "cell_type": "code",
   "execution_count": null,
   "id": "5276d733",
   "metadata": {},
   "outputs": [],
   "source": [
    "# Import the package that should be upgraded (used to find the files where extracted functions are defined)\n",
    "from tensorflow import keras\n",
    "#import keras"
   ]
  },
  {
   "cell_type": "markdown",
   "id": "9e5404fb",
   "metadata": {},
   "source": [
    "### Tools internal processing of the inputs"
   ]
  },
  {
   "cell_type": "code",
   "execution_count": 55,
   "id": "4314862a",
   "metadata": {},
   "outputs": [],
   "source": [
    "# TODO Check inputs for validity (i.e. does dll directory exist, is date in the correct format, is package known (for git url))\n",
    "\n",
    "# Setup folder names\n",
    "clone_folder_name = 'temp_bare_clone_' + package_name"
   ]
  },
  {
   "cell_type": "markdown",
   "id": "9aadcaa6",
   "metadata": {},
   "source": [
    "## Create a bare clone of the library, which only includes repository data\n",
    "\n",
    "In this way, we do not have to download the code, but still get access to the commit log."
   ]
  },
  {
   "cell_type": "code",
   "execution_count": null,
   "id": "88b20f04",
   "metadata": {},
   "outputs": [],
   "source": [
    "# create a temporary directory for a bare clone of a give library\n",
    "try:\n",
    "    os.mkdir(clone_folder_name)\n",
    "except:\n",
    "    pass"
   ]
  },
  {
   "cell_type": "code",
   "execution_count": null,
   "id": "8ed9f189",
   "metadata": {},
   "outputs": [],
   "source": [
    "# create the bare clone\n",
    "!git clone --bare {git_url} {clone_folder_name}"
   ]
  },
  {
   "cell_type": "code",
   "execution_count": 5,
   "id": "b05947d8",
   "metadata": {
    "scrolled": false
   },
   "outputs": [
    {
     "name": "stdout",
     "output_type": "stream",
     "text": [
      "A:\\BachelorThesis\\DLL_Testing_Tool\\Code\\2_Commit_Extraction_and_Analysis\\temp_bare_clone_tensorflow\n"
     ]
    }
   ],
   "source": [
    "%cd {clone_folder_name}"
   ]
  },
  {
   "cell_type": "markdown",
   "id": "fa6eed0e",
   "metadata": {},
   "source": [
    "## Import the extraction data "
   ]
  },
  {
   "cell_type": "code",
   "execution_count": 6,
   "id": "9b482ea0",
   "metadata": {},
   "outputs": [],
   "source": [
    "# import tensorflow 1.12.0 data\n",
    "df_tensorflow_1_12_0 = pd.read_csv('../../1_Test_Case_Extraction_and_Analysis/extracted_data/tensorflow_1.12.0_data.csv')"
   ]
  },
  {
   "cell_type": "markdown",
   "id": "e739d293",
   "metadata": {},
   "source": [
    "## Filter for only functions of the package\n",
    "\n",
    "\n"
   ]
  },
  {
   "cell_type": "code",
   "execution_count": 7,
   "id": "38426b61",
   "metadata": {
    "scrolled": false
   },
   "outputs": [
    {
     "data": {
      "text/html": [
       "<div>\n",
       "<style scoped>\n",
       "    .dataframe tbody tr th:only-of-type {\n",
       "        vertical-align: middle;\n",
       "    }\n",
       "\n",
       "    .dataframe tbody tr th {\n",
       "        vertical-align: top;\n",
       "    }\n",
       "\n",
       "    .dataframe thead th {\n",
       "        text-align: right;\n",
       "    }\n",
       "</style>\n",
       "<table border=\"1\" class=\"dataframe\">\n",
       "  <thead>\n",
       "    <tr style=\"text-align: right;\">\n",
       "      <th></th>\n",
       "      <th>File_Path</th>\n",
       "      <th>Line_Number</th>\n",
       "      <th>Found_in_Function</th>\n",
       "      <th>Function_Definition_Line_Number</th>\n",
       "      <th>Assert_Statement_Type</th>\n",
       "      <th>Oracle_Argument_ Position</th>\n",
       "      <th>Differential_Function_Line_Number</th>\n",
       "      <th>Differential_Test_Function</th>\n",
       "    </tr>\n",
       "  </thead>\n",
       "  <tbody>\n",
       "    <tr>\n",
       "      <th>13418</th>\n",
       "      <td>keras\\backend_test.py</td>\n",
       "      <td>55</td>\n",
       "      <td>compare_single_input_op_to_numpy</td>\n",
       "      <td>34</td>\n",
       "      <td>assert_allclose</td>\n",
       "      <td>1</td>\n",
       "      <td>52</td>\n",
       "      <td>keras.backend.eval</td>\n",
       "    </tr>\n",
       "    <tr>\n",
       "      <th>13423</th>\n",
       "      <td>keras\\backend_test.py</td>\n",
       "      <td>84</td>\n",
       "      <td>compare_single_input_op_to_numpy</td>\n",
       "      <td>34</td>\n",
       "      <td>assert_allclose</td>\n",
       "      <td>1</td>\n",
       "      <td>52</td>\n",
       "      <td>keras.backend.eval</td>\n",
       "    </tr>\n",
       "    <tr>\n",
       "      <th>13427</th>\n",
       "      <td>keras\\backend_test.py</td>\n",
       "      <td>141</td>\n",
       "      <td>test_learning_phase_scope</td>\n",
       "      <td>135</td>\n",
       "      <td>assertEqual</td>\n",
       "      <td>2</td>\n",
       "      <td>137</td>\n",
       "      <td>keras.backend.learning_phase</td>\n",
       "    </tr>\n",
       "    <tr>\n",
       "      <th>13428</th>\n",
       "      <td>keras\\backend_test.py</td>\n",
       "      <td>145</td>\n",
       "      <td>test_learning_phase_scope</td>\n",
       "      <td>135</td>\n",
       "      <td>assertEqual</td>\n",
       "      <td>2</td>\n",
       "      <td>137</td>\n",
       "      <td>keras.backend.learning_phase</td>\n",
       "    </tr>\n",
       "    <tr>\n",
       "      <th>13429</th>\n",
       "      <td>keras\\backend_test.py</td>\n",
       "      <td>149</td>\n",
       "      <td>test_learning_phase_scope</td>\n",
       "      <td>135</td>\n",
       "      <td>assertEqual</td>\n",
       "      <td>2</td>\n",
       "      <td>137</td>\n",
       "      <td>keras.backend.learning_phase</td>\n",
       "    </tr>\n",
       "    <tr>\n",
       "      <th>...</th>\n",
       "      <td>...</td>\n",
       "      <td>...</td>\n",
       "      <td>...</td>\n",
       "      <td>...</td>\n",
       "      <td>...</td>\n",
       "      <td>...</td>\n",
       "      <td>...</td>\n",
       "      <td>...</td>\n",
       "    </tr>\n",
       "    <tr>\n",
       "      <th>26322</th>\n",
       "      <td>kernel_tests\\rnn_test.py</td>\n",
       "      <td>636</td>\n",
       "      <td>testRNNCellSerialization</td>\n",
       "      <td>601</td>\n",
       "      <td>assertAllClose</td>\n",
       "      <td>1</td>\n",
       "      <td>613</td>\n",
       "      <td>keras.models.Model</td>\n",
       "    </tr>\n",
       "    <tr>\n",
       "      <th>26323</th>\n",
       "      <td>kernel_tests\\rnn_test.py</td>\n",
       "      <td>636</td>\n",
       "      <td>testRNNCellSerialization</td>\n",
       "      <td>601</td>\n",
       "      <td>assertAllClose</td>\n",
       "      <td>1</td>\n",
       "      <td>610</td>\n",
       "      <td>keras.Input</td>\n",
       "    </tr>\n",
       "    <tr>\n",
       "      <th>26327</th>\n",
       "      <td>kernel_tests\\rnn_test.py</td>\n",
       "      <td>636</td>\n",
       "      <td>testRNNCellSerialization</td>\n",
       "      <td>601</td>\n",
       "      <td>assertAllClose</td>\n",
       "      <td>2</td>\n",
       "      <td>613</td>\n",
       "      <td>keras.models.Model</td>\n",
       "    </tr>\n",
       "    <tr>\n",
       "      <th>26328</th>\n",
       "      <td>kernel_tests\\rnn_test.py</td>\n",
       "      <td>636</td>\n",
       "      <td>testRNNCellSerialization</td>\n",
       "      <td>601</td>\n",
       "      <td>assertAllClose</td>\n",
       "      <td>2</td>\n",
       "      <td>633</td>\n",
       "      <td>keras.models.Model</td>\n",
       "    </tr>\n",
       "    <tr>\n",
       "      <th>26329</th>\n",
       "      <td>kernel_tests\\rnn_test.py</td>\n",
       "      <td>636</td>\n",
       "      <td>testRNNCellSerialization</td>\n",
       "      <td>601</td>\n",
       "      <td>assertAllClose</td>\n",
       "      <td>2</td>\n",
       "      <td>610</td>\n",
       "      <td>keras.Input</td>\n",
       "    </tr>\n",
       "  </tbody>\n",
       "</table>\n",
       "<p>1176 rows × 8 columns</p>\n",
       "</div>"
      ],
      "text/plain": [
       "                      File_Path  Line_Number  \\\n",
       "13418     keras\\backend_test.py           55   \n",
       "13423     keras\\backend_test.py           84   \n",
       "13427     keras\\backend_test.py          141   \n",
       "13428     keras\\backend_test.py          145   \n",
       "13429     keras\\backend_test.py          149   \n",
       "...                         ...          ...   \n",
       "26322  kernel_tests\\rnn_test.py          636   \n",
       "26323  kernel_tests\\rnn_test.py          636   \n",
       "26327  kernel_tests\\rnn_test.py          636   \n",
       "26328  kernel_tests\\rnn_test.py          636   \n",
       "26329  kernel_tests\\rnn_test.py          636   \n",
       "\n",
       "                      Found_in_Function  Function_Definition_Line_Number  \\\n",
       "13418  compare_single_input_op_to_numpy                               34   \n",
       "13423  compare_single_input_op_to_numpy                               34   \n",
       "13427         test_learning_phase_scope                              135   \n",
       "13428         test_learning_phase_scope                              135   \n",
       "13429         test_learning_phase_scope                              135   \n",
       "...                                 ...                              ...   \n",
       "26322          testRNNCellSerialization                              601   \n",
       "26323          testRNNCellSerialization                              601   \n",
       "26327          testRNNCellSerialization                              601   \n",
       "26328          testRNNCellSerialization                              601   \n",
       "26329          testRNNCellSerialization                              601   \n",
       "\n",
       "      Assert_Statement_Type  Oracle_Argument_ Position  \\\n",
       "13418       assert_allclose                          1   \n",
       "13423       assert_allclose                          1   \n",
       "13427           assertEqual                          2   \n",
       "13428           assertEqual                          2   \n",
       "13429           assertEqual                          2   \n",
       "...                     ...                        ...   \n",
       "26322        assertAllClose                          1   \n",
       "26323        assertAllClose                          1   \n",
       "26327        assertAllClose                          2   \n",
       "26328        assertAllClose                          2   \n",
       "26329        assertAllClose                          2   \n",
       "\n",
       "       Differential_Function_Line_Number    Differential_Test_Function  \n",
       "13418                                 52            keras.backend.eval  \n",
       "13423                                 52            keras.backend.eval  \n",
       "13427                                137  keras.backend.learning_phase  \n",
       "13428                                137  keras.backend.learning_phase  \n",
       "13429                                137  keras.backend.learning_phase  \n",
       "...                                  ...                           ...  \n",
       "26322                                613            keras.models.Model  \n",
       "26323                                610                   keras.Input  \n",
       "26327                                613            keras.models.Model  \n",
       "26328                                633            keras.models.Model  \n",
       "26329                                610                   keras.Input  \n",
       "\n",
       "[1176 rows x 8 columns]"
      ]
     },
     "execution_count": 7,
     "metadata": {},
     "output_type": "execute_result"
    }
   ],
   "source": [
    "package_name = 'keras'\n",
    "# As a temporary solution, we will filter these for functions that contain 'package_name.' specifically\n",
    "column_to_filter = 'Differential_Test_Function'\n",
    "filter_keyword = package_name + '\\.'\n",
    "\n",
    "relevant_test_cases = df_tensorflow_1_12_0[df_tensorflow_1_12_0[column_to_filter].str.contains(filter_keyword, na=False)]\n",
    "relevant_test_cases"
   ]
  },
  {
   "cell_type": "markdown",
   "id": "3892fcc0",
   "metadata": {},
   "source": [
    "## Getting a git diff of the current version of the extracted function and the desired version.\n",
    "\n",
    "Procedure:\n",
    "1. For a single extracted function, get the file it is defined in\n",
    "2. Use git log to extract the commit id of the current version and the desired version\n",
    "3. Perform a git diff, comparing the extracted file in those two commits\n",
    "4. Selecting only the parts of the git diff that concern the extracted function"
   ]
  },
  {
   "cell_type": "code",
   "execution_count": 54,
   "id": "adef04f1",
   "metadata": {},
   "outputs": [
    {
     "name": "stdout",
     "output_type": "stream",
     "text": [
      "Extracted function: \tkeras.layers.SimpleRNNCell\n",
      "Full path: \t\tA:\\Programs\\Python36\\lib\\site-packages\\tensorflow\\python\\keras\\layers\\recurrent.py\n",
      "Index 39 cuts off \tA:\\Programs\\Python36\\lib\\site-packages\\\n",
      "Function location: \ttensorflow\\python\\keras\\layers\\recurrent.py \n",
      "\n",
      "\n",
      "\n",
      "\n",
      "\n",
      "commit a9cf3a0e4b419630f0183b0cc4e48e0641a62721\n",
      "Merge: e77d6acaefa 3eee56fc4b6\n",
      "Author: TensorFlower Gardener <gardener@tensorflow.org>\n",
      "Date:   Thu May 6 12:14:44 2021 -0700\n",
      "\n",
      "    Merge pull request #48725 from amogh7joshi:patch-3\n",
      "    \n",
      "    PiperOrigin-RevId: 372395334\n",
      "    Change-Id: Ie8841999976df629318bc10af1a9e822114d552c\n",
      "\n",
      "Commit id: a9cf3a0e4b419630f0183b0cc4e48e0641a62721\n",
      "\n",
      "diff --git a/tensorflow/python/keras/layers/recurrent.py b/tensorflow/python/keras/layers/recurrent.py\n",
      "index d48e685a1cb..f857748b27d 100644\n",
      "--- a/tensorflow/python/keras/layers/recurrent.py\n",
      "+++ b/tensorflow/python/keras/layers/recurrent.py\n",
      "@@ -1314,9 +1314,11 @@ class SimpleRNNCell(DropoutRNNCellMixin, Layer):\n",
      "                dropout=0.,\n",
      "                recurrent_dropout=0.,\n",
      "                **kwargs):\n",
      "+    # Validate the input arguments first, to try and prevent \n",
      "+    # any unnecessary computations with invalid arguments.\n",
      "     if units < 0:\n",
      "-      raise ValueError(f'Received an invalid value for units, expected '\n",
      "-                       f'a positive integer, got {units}.')\n",
      "+      raise ValueError(f\"Received an invalid value for units, expected\n",
      "+                       f\"a positive integer, got {units}.\")\n",
      "     # By default use cached variable under v2 mode, see b/143699808.\n",
      "     if ops.executing_eagerly_outside_functions():\n",
      "       self._enable_caching_device = kwargs.pop('enable_caching_device', True)\n",
      "@@ -1755,9 +1757,11 @@ class GRUCell(DropoutRNNCellMixin, Layer):\n",
      "                recurrent_dropout=0.,\n",
      "                reset_after=False,\n",
      "                **kwargs):\n",
      "+    # Validate the input arguments first, to try and prevent \n",
      "+    # any unnecessary computations with invalid arguments.\n",
      "     if units < 0:\n",
      "-      raise ValueError(f'Received an invalid value for units, expected '\n",
      "-                       f'a positive integer, got {units}.')\n",
      "+      raise ValueError(f\"Received an invalid value for units, expected\n",
      "+                       f\"a positive integer, got {units}.\")\n",
      "     # By default use cached variable under v2 mode, see b/143699808.\n",
      "     if ops.executing_eagerly_outside_functions():\n",
      "       self._enable_caching_device = kwargs.pop('enable_caching_device', True)\n",
      "@@ -2318,9 +2322,11 @@ class LSTMCell(DropoutRNNCellMixin, Layer):\n",
      "                dropout=0.,\n",
      "                recurrent_dropout=0.,\n",
      "                **kwargs):\n",
      "+    # Validate the input arguments first, to try and prevent \n",
      "+    # any unnecessary computations with invalid arguments.\n",
      "     if units < 0:\n",
      "-      raise ValueError(f'Received an invalid value for units, expected '\n",
      "-                       f'a positive integer, got {units}.')\n",
      "+      raise ValueError(f\"Received an invalid value for units, expected\n",
      "+                       f\"a positive integer, got {units}.\")\n",
      "     # By default use cached variable under v2 mode, see b/143699808.\n",
      "     if ops.executing_eagerly_outside_functions():\n",
      "       self._enable_caching_device = kwargs.pop('enable_caching_device', True)\n",
      "\n"
     ]
    }
   ],
   "source": [
    "#for case_id in range(len(relevant_test_cases)):\n",
    "#    try:\n",
    "\n",
    "# for testing only:\n",
    "case_id = 1170\n",
    "current_version_date = date(2021,5,10)\n",
    "\n",
    "# 1: \n",
    "\n",
    "# get extracted function as string\n",
    "extracted_function = relevant_test_cases.iloc[case_id]['Differential_Test_Function']\n",
    "print(\"Extracted function: \\t\" + extracted_function)\n",
    "\n",
    "# find where the function is defined\n",
    "str_to_execute = 'extracted_function_file_location = inspect.getsourcefile({})'.format(extracted_function)\n",
    "\n",
    "extracted_function_file_location = ''\n",
    "# execute the string as if it were code\n",
    "exec(str_to_execute)\n",
    "print(\"Full path: \\t\\t\" + extracted_function_file_location)\n",
    "\n",
    "# get the package root and remove it from the file path. This relative file path is necessary for a git diff\n",
    "#package_root = ''\n",
    "#exec('package_root = inspect.getsourcefile({})'.format(package_name))\n",
    "# remove the init.py part from the path\n",
    "#package_root = package_root.replace('__init__.py', '')\n",
    "#print(package_root)\n",
    "\n",
    "# remove the package root to get the relative file path \n",
    "package_root_index = extracted_function_file_location.index('tensorflow')\n",
    "print(\"Index \" + str(package_root_index) + \" cuts off \\t\" +  extracted_function_file_location[:package_root_index])\n",
    "extracted_function_file_location = extracted_function_file_location[package_root_index:] #.replace(package_root,'')\n",
    "\n",
    "print(\"Function location: \\t{} \\n\".format(extracted_function_file_location))\n",
    "\n",
    "# 2:\n",
    "git_log_current_version = ''\n",
    "days = 1\n",
    "while git_log_current_version == '':\n",
    "    command_current_version = [\"git\", \"log\", \"--since\", (current_version_date-timedelta(days=days)).strftime(\"%d-%m-%Y\"), \"--until\", current_version_date.strftime(\"%d-%m-%Y\"), \"--\", extracted_function_file_location]\n",
    "    git_log_current_version = subprocess.run(command_current_version, stdout=subprocess.PIPE).stdout.decode('utf-8')\n",
    "    print(git_log_current_version)\n",
    "    days += 1\n",
    "    \n",
    "commit_id_current = git_log_current_version[7:].splitlines()[0]\n",
    "print(\"Commit id: \" + commit_id_current + \"\\n\")\n",
    "\n",
    "# TODO Check the \"tensorflow.\"+ versions of the files?\n",
    "#command = [\"git\", \"log\", \"--oneline\", \"--name-only\", \"--since\", current_version_date, \"--until\", desired_version_date, \"--\", extracted_function_file_location]\n",
    "#command = [\"git\", \"log\", \"--oneline\", \"--since\", current_version_date, \"--until\", desired_version_date, \"--\", extracted_function_file_location]\n",
    "#command = [\"git\", \"log\", \"--oneline\", \"--since\", current_version_date-timedelta(days=1), \"--until\", current_version_date, \"--\", extracted_function_file_location]\n",
    "#command = [\"git\", \"log\", \"--oneline\", \"--\", extracted_function_file_location]\n",
    "\n",
    "\n",
    "\n",
    "# 3:\n",
    "\n",
    "# git diff [<options>] <commit>..<commit> [--] [<path>…]\n",
    "# Tensorflow test commit ids\n",
    "commit_id_desired = \"3eee56fc4b62f40756277adf231a665ac89d2ab6\" \n",
    "#commit2 = \"7716b719e5418ae91877c4b739771df336bea590\" \n",
    "\n",
    "# Keras test commit ids\n",
    "#commit1 =\n",
    "#commit2 = \n",
    "command = [\"git\", \"diff\", commit_id_current, commit_id_desired, \"--\", extracted_function_file_location]\n",
    "\n",
    "#print(''.join(command) + \"\\n\")\n",
    "\n",
    "git_log_output = subprocess.run(command, stdout=subprocess.PIPE).stdout.decode('utf-8')\n",
    "#with open(\"git_diff_output.txt\", \"w+\", encoding='utf-8') as text_file:\n",
    "#    text_file.write(git_log_output)\n",
    "print(git_log_output)\n",
    "\n",
    "#    except Exception as exc:\n",
    "#        print(\"ERROR: {}\\n\".format(exc))"
   ]
  },
  {
   "cell_type": "markdown",
   "id": "465ca6f0",
   "metadata": {},
   "source": [
    "## Install section (for testing)"
   ]
  },
  {
   "cell_type": "code",
   "execution_count": null,
   "id": "22132e1a",
   "metadata": {},
   "outputs": [],
   "source": [
    "!python --version"
   ]
  },
  {
   "cell_type": "code",
   "execution_count": null,
   "id": "093b1a17",
   "metadata": {
    "scrolled": true
   },
   "outputs": [],
   "source": [
    "# install the package (TODO if not already installed)\n",
    "!{sys.executable} -m pip install {package_name}==2.2.4"
   ]
  },
  {
   "cell_type": "code",
   "execution_count": null,
   "id": "8002a443",
   "metadata": {
    "scrolled": true
   },
   "outputs": [],
   "source": [
    "!{sys.executable} -m pip install tensorflow"
   ]
  },
  {
   "cell_type": "code",
   "execution_count": null,
   "id": "07d5f44b",
   "metadata": {},
   "outputs": [],
   "source": [
    "%pip install tensorflow==1.12.0"
   ]
  },
  {
   "cell_type": "code",
   "execution_count": 13,
   "id": "39a513bd",
   "metadata": {},
   "outputs": [
    {
     "name": "stdout",
     "output_type": "stream",
     "text": [
      "Name: Keras\n",
      "Version: 2.2.4\n",
      "Summary: Deep Learning for humans\n",
      "Home-page: https://github.com/keras-team/keras\n",
      "Author: Francois Chollet\n",
      "Author-email: francois.chollet@gmail.com\n",
      "License: MIT\n",
      "Location: a:\\programs\\python36\\lib\\site-packages\n",
      "Requires: numpy, h5py, keras-preprocessing, pyyaml, six, scipy, keras-applications\n",
      "Required-by: \n"
     ]
    }
   ],
   "source": [
    "!{sys.executable} -m pip show keras"
   ]
  },
  {
   "cell_type": "code",
   "execution_count": null,
   "id": "55996067",
   "metadata": {},
   "outputs": [],
   "source": [
    "!{sys.executable} --version"
   ]
  },
  {
   "cell_type": "code",
   "execution_count": null,
   "id": "78f4c2b2",
   "metadata": {},
   "outputs": [],
   "source": [
    "sys.executable"
   ]
  },
  {
   "cell_type": "markdown",
   "id": "e083430b",
   "metadata": {},
   "source": [
    "## TESTING SECTION:"
   ]
  },
  {
   "cell_type": "code",
   "execution_count": null,
   "id": "74e6b44d",
   "metadata": {},
   "outputs": [],
   "source": [
    "!start .\n",
    "#os.system(\"git log --oneline -- {extracted_function_file_location}\")\n",
    "# --since \"20-06-2021 00:00:00\" -p"
   ]
  },
  {
   "cell_type": "code",
   "execution_count": null,
   "id": "053271d0",
   "metadata": {
    "scrolled": true
   },
   "outputs": [],
   "source": [
    "# helper for finding where functions are defined\n",
    "print(inspect.getsourcefile(stats.t.logpdf) + \"\\n\")\n",
    "print(inspect.getsource(stats.t.logpdf))"
   ]
  },
  {
   "cell_type": "code",
   "execution_count": null,
   "id": "c0ee5295",
   "metadata": {},
   "outputs": [],
   "source": [
    "# Different git urls:\n",
    "#git_url = \"https://github.com/pytorch/pytorch.git\"\n",
    "#git_url = \"https://github.com/scipy/scipy.git\"\n",
    "#git_url = \"https://github.com/keras-team/keras.git\""
   ]
  },
  {
   "cell_type": "markdown",
   "id": "0f708356",
   "metadata": {},
   "source": [
    "### Testing git log functions\n",
    "\n",
    "-p shows the diffs\n",
    "\n",
    "Hunks of differences are in the format @@ from-file-range to-file-range @@ [header].  \n",
    "The from-file-range is in the form -\\<start line\\>,\\<number of lines\\>, and to-file-range is +\\<start line\\>,\\<number of lines\\>"
   ]
  },
  {
   "cell_type": "code",
   "execution_count": null,
   "id": "2d63b6be",
   "metadata": {},
   "outputs": [],
   "source": [
    "!git log --oneline -- {extracted_function_file_location}"
   ]
  },
  {
   "cell_type": "code",
   "execution_count": null,
   "id": "8643bbc1",
   "metadata": {
    "scrolled": true
   },
   "outputs": [],
   "source": [
    "!git log --since=\"3 hours ago\" --pretty=oneline"
   ]
  },
  {
   "cell_type": "code",
   "execution_count": null,
   "id": "5d547430",
   "metadata": {},
   "outputs": [],
   "source": [
    "!git log --name-only --date=local --since \"20-06-2021 00:00:00\" "
   ]
  },
  {
   "cell_type": "code",
   "execution_count": null,
   "id": "71e5ccfe",
   "metadata": {
    "scrolled": true
   },
   "outputs": [],
   "source": [
    "!git log --name-only --oneline --since \"20-06-2021 00:00:00\""
   ]
  },
  {
   "cell_type": "code",
   "execution_count": null,
   "id": "a9d6369e",
   "metadata": {
    "scrolled": false
   },
   "outputs": [],
   "source": [
    "!git log --name-only --oneline --since \"20-06-2021 00:00:00\"\n",
    "#--since \"20-06-2021 00:00:00\" -p -- scipy/special/_basic.py"
   ]
  }
 ],
 "metadata": {
  "kernelspec": {
   "display_name": "Python 3",
   "language": "python",
   "name": "python3"
  },
  "language_info": {
   "codemirror_mode": {
    "name": "ipython",
    "version": 3
   },
   "file_extension": ".py",
   "mimetype": "text/x-python",
   "name": "python",
   "nbconvert_exporter": "python",
   "pygments_lexer": "ipython3",
   "version": "3.6.8"
  }
 },
 "nbformat": 4,
 "nbformat_minor": 5
}
