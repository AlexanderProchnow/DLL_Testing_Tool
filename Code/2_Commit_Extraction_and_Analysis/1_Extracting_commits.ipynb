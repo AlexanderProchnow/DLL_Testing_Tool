{
 "cells": [
  {
   "cell_type": "markdown",
   "id": "02883f5c",
   "metadata": {},
   "source": [
    "# Finding relevant code changes in frameworks and packages\n",
    "\n",
    "The goal of this notebook is to track evolving code bases by first extracting changes made via the git log. These can then be filtered for the correct timeframe and relevant functions. The next step would then be to analyse the changes and decide whether they are relevant to a developer that uses that part of the code for differential testing or not."
   ]
  },
  {
   "cell_type": "markdown",
   "id": "3926e1fd",
   "metadata": {},
   "source": [
    "## Imports"
   ]
  },
  {
   "cell_type": "code",
   "execution_count": null,
   "id": "c0cda01e",
   "metadata": {},
   "outputs": [],
   "source": [
    "import os"
   ]
  },
  {
   "cell_type": "markdown",
   "id": "179f31cf",
   "metadata": {},
   "source": [
    "## Setup\n",
    "\n",
    "Paste the github giturl of the library you would like to analyse in the following cell:"
   ]
  },
  {
   "cell_type": "code",
   "execution_count": null,
   "id": "4314862a",
   "metadata": {},
   "outputs": [],
   "source": [
    "git_url = \"https://github.com/pytorch/pytorch.git\""
   ]
  },
  {
   "cell_type": "markdown",
   "id": "9aadcaa6",
   "metadata": {},
   "source": [
    "## Create a bare clone of the library, which only includes repository data\n",
    "\n",
    "In this way, we do not have to download the code, but still get access to the commit log."
   ]
  },
  {
   "cell_type": "code",
   "execution_count": null,
   "id": "88b20f04",
   "metadata": {},
   "outputs": [],
   "source": [
    "# create a temporary directory for a bare clone of a give library\n",
    "try:\n",
    "    os.mkdir('temp_bare_clone')\n",
    "except:\n",
    "    pass"
   ]
  },
  {
   "cell_type": "code",
   "execution_count": null,
   "id": "8ed9f189",
   "metadata": {},
   "outputs": [],
   "source": [
    "# create the bare clone\n",
    "!git clone --bare {git_url} temp_bare_clone"
   ]
  },
  {
   "cell_type": "code",
   "execution_count": null,
   "id": "b05947d8",
   "metadata": {},
   "outputs": [],
   "source": [
    "%cd temp_bare_clone"
   ]
  },
  {
   "cell_type": "code",
   "execution_count": null,
   "id": "759d0a35",
   "metadata": {},
   "outputs": [],
   "source": [
    "!git log HEAD"
   ]
  }
 ],
 "metadata": {
  "kernelspec": {
   "display_name": "Python 3",
   "language": "python",
   "name": "python3"
  },
  "language_info": {
   "codemirror_mode": {
    "name": "ipython",
    "version": 3
   },
   "file_extension": ".py",
   "mimetype": "text/x-python",
   "name": "python",
   "nbconvert_exporter": "python",
   "pygments_lexer": "ipython3",
   "version": "3.9.4"
  }
 },
 "nbformat": 4,
 "nbformat_minor": 5
}
