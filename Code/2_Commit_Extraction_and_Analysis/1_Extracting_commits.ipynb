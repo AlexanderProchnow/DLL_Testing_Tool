{
 "cells": [
  {
   "cell_type": "markdown",
   "id": "02883f5c",
   "metadata": {},
   "source": [
    "# Finding relevant code changes in frameworks and packages\n",
    "\n",
    "The goal of this notebook is to track evolving code bases by first extracting changes made via the git log. These can then be filtered for the correct timeframe and relevant functions. The next step would then be to analyse the changes and decide whether they are relevant to a developer that uses that part of the code for differential testing or not."
   ]
  },
  {
   "cell_type": "markdown",
   "id": "3926e1fd",
   "metadata": {},
   "source": [
    "## Imports"
   ]
  },
  {
   "cell_type": "code",
   "execution_count": 14,
   "id": "c0cda01e",
   "metadata": {},
   "outputs": [],
   "source": [
    "import os\n",
    "import inspect\n",
    "import pandas as pd\n",
    "from datetime import date, timedelta\n",
    "import sys\n",
    "import subprocess\n",
    "from IPython.display import display, HTML\n",
    "from tqdm import tqdm\n",
    "\n",
    "#import numpy as np\n",
    "#from scipy import stats"
   ]
  },
  {
   "cell_type": "markdown",
   "id": "179f31cf",
   "metadata": {},
   "source": [
    "## Setup: User Input\n",
    "\n",
    "* The user inputs the package that they would like to update and the Deep Learning Library. \n",
    "* They then input the current version of the package that the DLL is using and the one that they would like to upgrade to (default: most recent version). The version is here simplified to release dates for now, since this is easier to handle for git diff.\n",
    "* If the Github Link for that package is not stored, they then input the Github Link for that package.\n"
   ]
  },
  {
   "cell_type": "code",
   "execution_count": 2,
   "id": "ead73e49",
   "metadata": {},
   "outputs": [],
   "source": [
    "# Set root folder for all libraries:\n",
    "dl_library_root = \"/Users/Alex/Desktop/BachelorThesis/DLL_Testing_Tool/DL_Libraries/\""
   ]
  },
  {
   "cell_type": "code",
   "execution_count": 3,
   "id": "3c570fc7",
   "metadata": {},
   "outputs": [],
   "source": [
    "# Input 1: Package name\n",
    "package_name = 'tensorflow_1.12.0'\n",
    "\n",
    "# Input 2: Deep Learning Library name and directory\n",
    "dll_name = 'tensorflow_1.12.0'\n",
    "dll_directory = dl_library_root + 'Tensorflow/tensorflow-1.12.0/tensorflow/python/'\n",
    "\n",
    "# Input 3: Current version(i.e. date for simplicity) of the package (and optionally the desired version)\n",
    "# Format: date(Year, month, day)\n",
    "current_version_date = date(2018,11,6) # release date of TF 1.12.0\n",
    "desired_version_date = date(2019,2,25) # release date of TF 1.13.1\n",
    "\n",
    "# Input 4: Github Link of package (if not stored by the tool)\n",
    "git_url = \"https://github.com/tensorflow/tensorflow.git\"\n",
    "#git_url = 'https://github.com/keras-team/keras.git'"
   ]
  },
  {
   "cell_type": "code",
   "execution_count": null,
   "id": "90a8f4da",
   "metadata": {},
   "outputs": [],
   "source": [
    "# Input 1: Package name\n",
    "package_name = 'keras'\n",
    "\n",
    "# Input 2: Deep Learning Library name and directory\n",
    "dll_name = 'tensorflow_1.12.0'\n",
    "dll_directory = dl_library_root + 'Tensorflow/tensorflow-1.12.0/tensorflow/python/'\n",
    "\n",
    "# Input 3: Current version (i.e. date for simplicity) of the package (and optionally the desired version)\n",
    "current_version_date = date(2021,1,1)\n",
    "desired_version_date = date.today()\n",
    "\n",
    "# Input 4: Github Link of package (if not stored by the tool)\n",
    "#git_url = \"https://github.com/tensorflow/tensorflow.git\"\n",
    "git_url = 'https://github.com/keras-team/keras.git'"
   ]
  },
  {
   "cell_type": "code",
   "execution_count": null,
   "id": "841bf23c",
   "metadata": {},
   "outputs": [],
   "source": [
    "# Input 1: Package name\n",
    "package_name = 'scipy'\n",
    "\n",
    "# Input 2: Deep Learning Library name and directory\n",
    "dll_name = 'theano'\n",
    "dll_directory = 'A:/BachelorThesis/DLL_Testing_Tool/DL_Libraries/Theano-rel-1.0.3/theano/'\n",
    "\n",
    "# Input 3: Current version (i.e. date for simplicity) of the package (and optionally the desired version)\n",
    "current_version_date = date(2018,1,1)\n",
    "desired_version_date = date.today()\n",
    "\n",
    "# Input 4: Github Link of package (if not stored by the tool)\n",
    "git_url = 'https://github.com/scipy/scipy.git'"
   ]
  },
  {
   "cell_type": "code",
   "execution_count": 36,
   "id": "338abf84",
   "metadata": {},
   "outputs": [],
   "source": [
    "# Input 1: Package name\n",
    "package_name = 'scipy'\n",
    "\n",
    "# Input 2: Deep Learning Library name and directory\n",
    "dll_name = 'tensorflow'\n",
    "dll_directory = dl_library_root + 'Tensorflow/tensorflow-2.6.0/tensorflow/python/'\n",
    "\n",
    "# Input 3: Current version (i.e. date for simplicity) of the package (and optionally the desired version)\n",
    "current_version_date = date(2018,1,1)\n",
    "desired_version_date = date.today()\n",
    "\n",
    "# Input 4: Github Link of package (if not stored by the tool)\n",
    "git_url = 'https://github.com/scipy/scipy.git'"
   ]
  },
  {
   "cell_type": "code",
   "execution_count": null,
   "id": "c518b105",
   "metadata": {},
   "outputs": [],
   "source": [
    "# Input 1: Package name\n",
    "package_name = 'np'\n",
    "\n",
    "# Input 2: Deep Learning Library name and directory\n",
    "dll_name = 'pytorch'\n",
    "dll_directory = 'A:/BachelorThesis/DLL_Testing_Tool/DL_Libraries/PyTorch/pytorch-master/'\n",
    "\n",
    "# Input 3: Current version (i.e. date for simplicity) of the package (and optionally the desired version)\n",
    "current_version_date = date(2021,6,1)\n",
    "desired_version_date = date.today()\n",
    "\n",
    "# Input 4: Github Link of package (if not stored by the tool)\n",
    "git_url = 'https://github.com/numpy/numpy.git'"
   ]
  },
  {
   "cell_type": "code",
   "execution_count": 77,
   "id": "fae39c4b",
   "metadata": {},
   "outputs": [],
   "source": [
    "# Input 1: Package name\n",
    "package_name = 'scipy'\n",
    "\n",
    "# Input 2: Deep Learning Library name and directory\n",
    "dll_name = 'pytorch'\n",
    "dll_directory = 'A:/BachelorThesis/DLL_Testing_Tool/DL_Libraries/PyTorch/pytorch-master/'\n",
    "\n",
    "# Input 3: Current version (i.e. date for simplicity) of the package (and optionally the desired version)\n",
    "current_version_date = date(2018,1,1)\n",
    "desired_version_date = date.today()\n",
    "\n",
    "# Input 4: Github Link of package (if not stored by the tool)\n",
    "git_url = 'https://github.com/scipy/scipy.git'"
   ]
  },
  {
   "cell_type": "code",
   "execution_count": null,
   "id": "9cebb56f",
   "metadata": {},
   "outputs": [],
   "source": [
    "# Input 1: Package name\n",
    "package_name = 'stats'\n",
    "\n",
    "# Input 2: Deep Learning Library name and directory\n",
    "dll_name = 'numpy'\n",
    "dll_directory = 'A:/BachelorThesis/DLL_Testing_Tool/DL_Libraries/Numpy/numpy-main/'\n",
    "\n",
    "# Input 3: Current version (i.e. date for simplicity) of the package (and optionally the desired version)\n",
    "current_version_date = date(2021,6,1)\n",
    "desired_version_date = date.today()\n",
    "\n",
    "# Input 4: Github Link of package (if not stored by the tool)\n",
    "git_url = 'https://github.com/scipy/scipy.git'"
   ]
  },
  {
   "cell_type": "code",
   "execution_count": 48,
   "id": "2992e504",
   "metadata": {},
   "outputs": [],
   "source": [
    "# Import the package that should be upgraded (used to find the files where extracted functions are defined)\n",
    "#from tensorflow import keras\n",
    "#import keras\n",
    "import scipy\n",
    "#import numpy as np\n",
    "from scipy import stats"
   ]
  },
  {
   "cell_type": "code",
   "execution_count": null,
   "id": "fe3b04db",
   "metadata": {},
   "outputs": [],
   "source": [
    "#!{sys.executable} -m pip install scipy"
   ]
  },
  {
   "cell_type": "markdown",
   "id": "9e5404fb",
   "metadata": {},
   "source": [
    "### Tools internal processing of the inputs"
   ]
  },
  {
   "cell_type": "code",
   "execution_count": 63,
   "id": "4314862a",
   "metadata": {},
   "outputs": [],
   "source": [
    "# TODO Check inputs for validity (i.e. does dll directory exist, is date in the correct format, is package known (for git url))\n",
    "\n",
    "# Setup folder names\n",
    "clone_folder_name = 'temp_bare_clone_' + package_name"
   ]
  },
  {
   "cell_type": "markdown",
   "id": "9aadcaa6",
   "metadata": {},
   "source": [
    "## Create a bare clone of the library, which only includes repository data\n",
    "\n",
    "In this way, we do not have to download the code, but still get access to the commit log."
   ]
  },
  {
   "cell_type": "code",
   "execution_count": 67,
   "id": "a89289d9",
   "metadata": {},
   "outputs": [
    {
     "name": "stdout",
     "output_type": "stream",
     "text": [
      "/Users/Alex/Desktop/BachelorThesis/DLL_Testing_Tool/Code/2_Commit_Extraction_and_Analysis/temp_bare_clone_scipy\n"
     ]
    }
   ],
   "source": [
    "%cd .."
   ]
  },
  {
   "cell_type": "code",
   "execution_count": 64,
   "id": "88b20f04",
   "metadata": {},
   "outputs": [],
   "source": [
    "# create a temporary directory for a bare clone of a give library\n",
    "try:\n",
    "    os.mkdir(clone_folder_name)\n",
    "except:\n",
    "    pass"
   ]
  },
  {
   "cell_type": "code",
   "execution_count": 65,
   "id": "8ed9f189",
   "metadata": {},
   "outputs": [
    {
     "name": "stdout",
     "output_type": "stream",
     "text": [
      "Cloning into bare repository 'temp_bare_clone_scipy'...\n",
      "remote: Enumerating objects: 187359, done.\u001b[K\n",
      "^Cceiving objects:  96% (179865/187359), 127.61 MiB | 11.05 MiB/s\n"
     ]
    }
   ],
   "source": [
    "# Only execute this if the clone was not yet created\n",
    "if len(os.listdir(clone_folder_name)) == 0:\n",
    "\n",
    "    # create the bare clone\n",
    "    !git clone --bare {git_url} {clone_folder_name}"
   ]
  },
  {
   "cell_type": "code",
   "execution_count": 66,
   "id": "b05947d8",
   "metadata": {
    "scrolled": false
   },
   "outputs": [
    {
     "name": "stdout",
     "output_type": "stream",
     "text": [
      "/Users/Alex/Desktop/BachelorThesis/DLL_Testing_Tool/Code/2_Commit_Extraction_and_Analysis/temp_bare_clone_scipy/temp_bare_clone_scipy\n"
     ]
    }
   ],
   "source": [
    "%cd {clone_folder_name}"
   ]
  },
  {
   "cell_type": "markdown",
   "id": "fa6eed0e",
   "metadata": {},
   "source": [
    "## Import the extraction data "
   ]
  },
  {
   "cell_type": "code",
   "execution_count": 68,
   "id": "9b482ea0",
   "metadata": {},
   "outputs": [],
   "source": [
    "# import extracted test case data\n",
    "df = pd.read_csv('../../1_Test_Case_Extraction_and_Analysis/extracted_data/{}_data.csv'.format(dll_name))\n",
    "\n",
    "#for funcs in df.Differential_Test_Function.unique():\n",
    "#    print(funcs)\n",
    "#    if 'stats' in str(funcs):\n",
    "#        print(funcs)"
   ]
  },
  {
   "cell_type": "markdown",
   "id": "e739d293",
   "metadata": {},
   "source": [
    "## Filter for only functions of the package\n",
    "\n",
    "\n"
   ]
  },
  {
   "cell_type": "code",
   "execution_count": 74,
   "id": "38426b61",
   "metadata": {
    "scrolled": true
   },
   "outputs": [
    {
     "name": "stdout",
     "output_type": "stream",
     "text": [
      "17\n"
     ]
    },
    {
     "data": {
      "text/html": [
       "<div>\n",
       "<style scoped>\n",
       "    .dataframe tbody tr th:only-of-type {\n",
       "        vertical-align: middle;\n",
       "    }\n",
       "\n",
       "    .dataframe tbody tr th {\n",
       "        vertical-align: top;\n",
       "    }\n",
       "\n",
       "    .dataframe thead th {\n",
       "        text-align: right;\n",
       "    }\n",
       "</style>\n",
       "<table border=\"1\" class=\"dataframe\">\n",
       "  <thead>\n",
       "    <tr style=\"text-align: right;\">\n",
       "      <th></th>\n",
       "      <th>File_Path</th>\n",
       "      <th>Line_Number</th>\n",
       "      <th>Found_in_Function</th>\n",
       "      <th>Function_Definition_Line_Number</th>\n",
       "      <th>Assert_Statement_Type</th>\n",
       "      <th>Oracle_Argument_ Position</th>\n",
       "      <th>Differential_Function_Line_Number</th>\n",
       "      <th>Differential_Test_Function</th>\n",
       "    </tr>\n",
       "  </thead>\n",
       "  <tbody>\n",
       "    <tr>\n",
       "      <th>19419</th>\n",
       "      <td>test\\test_sparse.py</td>\n",
       "      <td>3317</td>\n",
       "      <td>test_sparse_matmul</td>\n",
       "      <td>3214</td>\n",
       "      <td>assertEqual</td>\n",
       "      <td>1</td>\n",
       "      <td>3243</td>\n",
       "      <td>scipy.sparse.coo_matrix</td>\n",
       "    </tr>\n",
       "    <tr>\n",
       "      <th>19421</th>\n",
       "      <td>test\\test_sparse.py</td>\n",
       "      <td>3317</td>\n",
       "      <td>test_sparse_matmul</td>\n",
       "      <td>3214</td>\n",
       "      <td>assertEqual</td>\n",
       "      <td>1</td>\n",
       "      <td>3244</td>\n",
       "      <td>scipy.sparse.coo_matrix</td>\n",
       "    </tr>\n",
       "    <tr>\n",
       "      <th>23749</th>\n",
       "      <td>test\\test_torch.py</td>\n",
       "      <td>4393</td>\n",
       "      <td>test_geometric_kstest</td>\n",
       "      <td>4385</td>\n",
       "      <td>assertEqual</td>\n",
       "      <td>1</td>\n",
       "      <td>4392</td>\n",
       "      <td>stats.chisquare</td>\n",
       "    </tr>\n",
       "    <tr>\n",
       "      <th>25308</th>\n",
       "      <td>test\\test_unary_ufuncs.py</td>\n",
       "      <td>1176</td>\n",
       "      <td>_i0_helper</td>\n",
       "      <td>1166</td>\n",
       "      <td>assertEqual</td>\n",
       "      <td>2</td>\n",
       "      <td>1172</td>\n",
       "      <td>scipy.special.i0</td>\n",
       "    </tr>\n",
       "    <tr>\n",
       "      <th>25317</th>\n",
       "      <td>test\\test_unary_ufuncs.py</td>\n",
       "      <td>1270</td>\n",
       "      <td>test_special_ndtr_vs_scipy</td>\n",
       "      <td>1265</td>\n",
       "      <td>assertEqual</td>\n",
       "      <td>2</td>\n",
       "      <td>1269</td>\n",
       "      <td>scipy.special.ndtr</td>\n",
       "    </tr>\n",
       "    <tr>\n",
       "      <th>27472</th>\n",
       "      <td>test\\distributions\\test_distributions.py</td>\n",
       "      <td>1319</td>\n",
       "      <td>test_poisson_log_prob</td>\n",
       "      <td>1312</td>\n",
       "      <td>assertEqual</td>\n",
       "      <td>2</td>\n",
       "      <td>1318</td>\n",
       "      <td>scipy.stats.poisson.logpmf</td>\n",
       "    </tr>\n",
       "    <tr>\n",
       "      <th>27595</th>\n",
       "      <td>test\\distributions\\test_distributions.py</td>\n",
       "      <td>1765</td>\n",
       "      <td>test_mixture_same_family_log_prob</td>\n",
       "      <td>1753</td>\n",
       "      <td>assertEqual</td>\n",
       "      <td>2</td>\n",
       "      <td>1764</td>\n",
       "      <td>scipy.special.logsumexp</td>\n",
       "    </tr>\n",
       "    <tr>\n",
       "      <th>27788</th>\n",
       "      <td>test\\distributions\\test_distributions.py</td>\n",
       "      <td>2214</td>\n",
       "      <td>test_gamma_shape</td>\n",
       "      <td>2198</td>\n",
       "      <td>assertEqual</td>\n",
       "      <td>2</td>\n",
       "      <td>2213</td>\n",
       "      <td>scipy.stats.gamma.logpdf</td>\n",
       "    </tr>\n",
       "    <tr>\n",
       "      <th>27798</th>\n",
       "      <td>test\\distributions\\test_distributions.py</td>\n",
       "      <td>2236</td>\n",
       "      <td>test_gamma_gpu_shape</td>\n",
       "      <td>2220</td>\n",
       "      <td>assertEqual</td>\n",
       "      <td>2</td>\n",
       "      <td>2235</td>\n",
       "      <td>scipy.stats.gamma.logpdf</td>\n",
       "    </tr>\n",
       "    <tr>\n",
       "      <th>27810</th>\n",
       "      <td>test\\distributions\\test_distributions.py</td>\n",
       "      <td>2278</td>\n",
       "      <td>test_pareto</td>\n",
       "      <td>2260</td>\n",
       "      <td>assertEqual</td>\n",
       "      <td>2</td>\n",
       "      <td>2277</td>\n",
       "      <td>scipy.stats.pareto.logpdf</td>\n",
       "    </tr>\n",
       "    <tr>\n",
       "      <th>27820</th>\n",
       "      <td>test\\distributions\\test_distributions.py</td>\n",
       "      <td>2307</td>\n",
       "      <td>test_gumbel</td>\n",
       "      <td>2291</td>\n",
       "      <td>assertEqual</td>\n",
       "      <td>2</td>\n",
       "      <td>2306</td>\n",
       "      <td>scipy.stats.gumbel_r.logpdf</td>\n",
       "    </tr>\n",
       "    <tr>\n",
       "      <th>27840</th>\n",
       "      <td>test\\distributions\\test_distributions.py</td>\n",
       "      <td>2374</td>\n",
       "      <td>test_fishersnedecor</td>\n",
       "      <td>2356</td>\n",
       "      <td>assertEqual</td>\n",
       "      <td>2</td>\n",
       "      <td>2373</td>\n",
       "      <td>scipy.stats.f.logpdf</td>\n",
       "    </tr>\n",
       "    <tr>\n",
       "      <th>27847</th>\n",
       "      <td>test\\distributions\\test_distributions.py</td>\n",
       "      <td>2401</td>\n",
       "      <td>test_chi2_shape</td>\n",
       "      <td>2387</td>\n",
       "      <td>assertEqual</td>\n",
       "      <td>2</td>\n",
       "      <td>2400</td>\n",
       "      <td>scipy.stats.chi2.logpdf</td>\n",
       "    </tr>\n",
       "    <tr>\n",
       "      <th>27853</th>\n",
       "      <td>test\\distributions\\test_distributions.py</td>\n",
       "      <td>2431</td>\n",
       "      <td>test_studentT</td>\n",
       "      <td>2414</td>\n",
       "      <td>assertEqual</td>\n",
       "      <td>2</td>\n",
       "      <td>2430</td>\n",
       "      <td>scipy.stats.t.logpdf</td>\n",
       "    </tr>\n",
       "    <tr>\n",
       "      <th>27855</th>\n",
       "      <td>test\\distributions\\test_distributions.py</td>\n",
       "      <td>2453</td>\n",
       "      <td>test_studentT_log_prob</td>\n",
       "      <td>2444</td>\n",
       "      <td>assertEqual</td>\n",
       "      <td>2</td>\n",
       "      <td>2452</td>\n",
       "      <td>scipy.stats.t.logpdf</td>\n",
       "    </tr>\n",
       "    <tr>\n",
       "      <th>27860</th>\n",
       "      <td>test\\distributions\\test_distributions.py</td>\n",
       "      <td>2472</td>\n",
       "      <td>test_dirichlet_log_prob</td>\n",
       "      <td>2464</td>\n",
       "      <td>assertEqual</td>\n",
       "      <td>2</td>\n",
       "      <td>2471</td>\n",
       "      <td>scipy.stats.dirichlet.logpdf</td>\n",
       "    </tr>\n",
       "    <tr>\n",
       "      <th>27875</th>\n",
       "      <td>test\\distributions\\test_distributions.py</td>\n",
       "      <td>2504</td>\n",
       "      <td>test_beta_log_prob</td>\n",
       "      <td>2496</td>\n",
       "      <td>assertEqual</td>\n",
       "      <td>2</td>\n",
       "      <td>2503</td>\n",
       "      <td>scipy.stats.beta.logpdf</td>\n",
       "    </tr>\n",
       "  </tbody>\n",
       "</table>\n",
       "</div>"
      ],
      "text/plain": [
       "                                      File_Path  Line_Number  \\\n",
       "19419                       test\\test_sparse.py         3317   \n",
       "19421                       test\\test_sparse.py         3317   \n",
       "23749                        test\\test_torch.py         4393   \n",
       "25308                 test\\test_unary_ufuncs.py         1176   \n",
       "25317                 test\\test_unary_ufuncs.py         1270   \n",
       "27472  test\\distributions\\test_distributions.py         1319   \n",
       "27595  test\\distributions\\test_distributions.py         1765   \n",
       "27788  test\\distributions\\test_distributions.py         2214   \n",
       "27798  test\\distributions\\test_distributions.py         2236   \n",
       "27810  test\\distributions\\test_distributions.py         2278   \n",
       "27820  test\\distributions\\test_distributions.py         2307   \n",
       "27840  test\\distributions\\test_distributions.py         2374   \n",
       "27847  test\\distributions\\test_distributions.py         2401   \n",
       "27853  test\\distributions\\test_distributions.py         2431   \n",
       "27855  test\\distributions\\test_distributions.py         2453   \n",
       "27860  test\\distributions\\test_distributions.py         2472   \n",
       "27875  test\\distributions\\test_distributions.py         2504   \n",
       "\n",
       "                       Found_in_Function  Function_Definition_Line_Number  \\\n",
       "19419                 test_sparse_matmul                             3214   \n",
       "19421                 test_sparse_matmul                             3214   \n",
       "23749              test_geometric_kstest                             4385   \n",
       "25308                         _i0_helper                             1166   \n",
       "25317         test_special_ndtr_vs_scipy                             1265   \n",
       "27472              test_poisson_log_prob                             1312   \n",
       "27595  test_mixture_same_family_log_prob                             1753   \n",
       "27788                   test_gamma_shape                             2198   \n",
       "27798               test_gamma_gpu_shape                             2220   \n",
       "27810                        test_pareto                             2260   \n",
       "27820                        test_gumbel                             2291   \n",
       "27840                test_fishersnedecor                             2356   \n",
       "27847                    test_chi2_shape                             2387   \n",
       "27853                      test_studentT                             2414   \n",
       "27855             test_studentT_log_prob                             2444   \n",
       "27860            test_dirichlet_log_prob                             2464   \n",
       "27875                 test_beta_log_prob                             2496   \n",
       "\n",
       "      Assert_Statement_Type  Oracle_Argument_ Position  \\\n",
       "19419           assertEqual                          1   \n",
       "19421           assertEqual                          1   \n",
       "23749           assertEqual                          1   \n",
       "25308           assertEqual                          2   \n",
       "25317           assertEqual                          2   \n",
       "27472           assertEqual                          2   \n",
       "27595           assertEqual                          2   \n",
       "27788           assertEqual                          2   \n",
       "27798           assertEqual                          2   \n",
       "27810           assertEqual                          2   \n",
       "27820           assertEqual                          2   \n",
       "27840           assertEqual                          2   \n",
       "27847           assertEqual                          2   \n",
       "27853           assertEqual                          2   \n",
       "27855           assertEqual                          2   \n",
       "27860           assertEqual                          2   \n",
       "27875           assertEqual                          2   \n",
       "\n",
       "       Differential_Function_Line_Number    Differential_Test_Function  \n",
       "19419                               3243       scipy.sparse.coo_matrix  \n",
       "19421                               3244       scipy.sparse.coo_matrix  \n",
       "23749                               4392               stats.chisquare  \n",
       "25308                               1172              scipy.special.i0  \n",
       "25317                               1269            scipy.special.ndtr  \n",
       "27472                               1318    scipy.stats.poisson.logpmf  \n",
       "27595                               1764       scipy.special.logsumexp  \n",
       "27788                               2213      scipy.stats.gamma.logpdf  \n",
       "27798                               2235      scipy.stats.gamma.logpdf  \n",
       "27810                               2277     scipy.stats.pareto.logpdf  \n",
       "27820                               2306   scipy.stats.gumbel_r.logpdf  \n",
       "27840                               2373          scipy.stats.f.logpdf  \n",
       "27847                               2400       scipy.stats.chi2.logpdf  \n",
       "27853                               2430          scipy.stats.t.logpdf  \n",
       "27855                               2452          scipy.stats.t.logpdf  \n",
       "27860                               2471  scipy.stats.dirichlet.logpdf  \n",
       "27875                               2503       scipy.stats.beta.logpdf  "
      ]
     },
     "metadata": {},
     "output_type": "display_data"
    }
   ],
   "source": [
    "# For tensorflow 1.12.0, comment this line in:\n",
    "#package_name = 'keras'\n",
    "package_name = 'scipy'\n",
    "\n",
    "# for filter keywords we use the '^' regex to mark the start of the string\n",
    "searchfor = ['^'+package_name+'\\.', '^stats\\.', ]\n",
    "\n",
    "# As a temporary solution, we will filter these for functions that contain 'package_name.' specifically\n",
    "column_to_filter = 'Differential_Test_Function'\n",
    "filter_keyword = package_name + '\\.'\n",
    "\n",
    "filter_keyword = '|'.join(searchfor)\n",
    "\n",
    "relevant_test_cases = df[df[column_to_filter].str.contains(filter_keyword, na=False)]\n",
    "relevant_test_cases_unique = relevant_test_cases.Differential_Test_Function.unique()\n",
    "\n",
    "# For demonstration: Test cases found in rnn_test.py (TF 1.12.0):\n",
    "# Windows:\n",
    "demo_test_cases = relevant_test_cases[relevant_test_cases.File_Path.str.contains(os.sep + 'rnn_test.py', regex=False)]\n",
    "\n",
    "# Mac:\n",
    "demo_test_cases = relevant_test_cases[relevant_test_cases.File_Path.str.contains('\\\\rnn_test.py', regex=False)]\n",
    "#demo_extracted_functions = demo_test_cases.Differential_Test_Function.unique()\n",
    "#relevant_test_cases = demo_test_cases\n",
    "\n",
    "#package_name = 'tensorflow'\n",
    "print(len(relevant_test_cases))\n",
    "display(relevant_test_cases)"
   ]
  },
  {
   "cell_type": "code",
   "execution_count": null,
   "id": "c63de7c4",
   "metadata": {},
   "outputs": [],
   "source": [
    "filter_keyword"
   ]
  },
  {
   "cell_type": "markdown",
   "id": "3892fcc0",
   "metadata": {},
   "source": [
    "## Getting a git diff of the current version of the extracted function and the desired version.\n",
    "\n",
    "Procedure:\n",
    "1. For a single extracted function, get the file it is defined in\n",
    "2. Use git log to extract the commit id of the current version and the desired version\n",
    "3. Perform a git diff, comparing the extracted file in those two commits  \n",
    "4. (Selecting only the parts of the git diff that concern the extracted function)"
   ]
  },
  {
   "cell_type": "code",
   "execution_count": 78,
   "id": "adef04f1",
   "metadata": {
    "scrolled": true
   },
   "outputs": [
    {
     "name": "stdout",
     "output_type": "stream",
     "text": [
      "/opt/miniconda3/envs/python36_env/lib/python3.6/site-packages/scipy/sparse/coo.py\n",
      "/opt/miniconda3/envs/python36_env/lib/python3.6/site-packages/scipy/sparse/coo.py\n",
      "/opt/miniconda3/envs/python36_env/lib/python3.6/site-packages/scipy/stats/stats.py\n",
      "/opt/miniconda3/envs/python36_env/lib/python3.6/site-packages/scipy/stats/_distn_infrastructure.py\n",
      "/opt/miniconda3/envs/python36_env/lib/python3.6/site-packages/scipy/special/_logsumexp.py\n",
      "/opt/miniconda3/envs/python36_env/lib/python3.6/site-packages/scipy/stats/_distn_infrastructure.py\n",
      "/opt/miniconda3/envs/python36_env/lib/python3.6/site-packages/scipy/stats/_distn_infrastructure.py\n",
      "/opt/miniconda3/envs/python36_env/lib/python3.6/site-packages/scipy/stats/_distn_infrastructure.py\n",
      "/opt/miniconda3/envs/python36_env/lib/python3.6/site-packages/scipy/stats/_distn_infrastructure.py\n",
      "/opt/miniconda3/envs/python36_env/lib/python3.6/site-packages/scipy/stats/_distn_infrastructure.py\n",
      "/opt/miniconda3/envs/python36_env/lib/python3.6/site-packages/scipy/stats/_distn_infrastructure.py\n",
      "/opt/miniconda3/envs/python36_env/lib/python3.6/site-packages/scipy/stats/_distn_infrastructure.py\n",
      "/opt/miniconda3/envs/python36_env/lib/python3.6/site-packages/scipy/stats/_distn_infrastructure.py\n",
      "/opt/miniconda3/envs/python36_env/lib/python3.6/site-packages/scipy/stats/_multivariate.py\n",
      "/opt/miniconda3/envs/python36_env/lib/python3.6/site-packages/scipy/stats/_distn_infrastructure.py\n"
     ]
    },
    {
     "name": "stderr",
     "output_type": "stream",
     "text": [
      "/opt/miniconda3/envs/python36_env/lib/python3.6/site-packages/pandas/core/indexing.py:1743: SettingWithCopyWarning: \n",
      "A value is trying to be set on a copy of a slice from a DataFrame.\n",
      "Try using .loc[row_indexer,col_indexer] = value instead\n",
      "\n",
      "See the caveats in the documentation: https://pandas.pydata.org/pandas-docs/stable/user_guide/indexing.html#returning-a-view-versus-a-copy\n",
      "  isetter(ilocs[0], value)\n",
      "100%|██████████| 6/6 [00:00<00:00, 13.43it/s]"
     ]
    },
    {
     "name": "stdout",
     "output_type": "stream",
     "text": [
      "2 errors: [\"scipy.special.i0 : <ufunc 'i0'> is not a module, class, method, function, traceback, frame, or code object\", \"scipy.special.ndtr : <ufunc 'ndtr'> is not a module, class, method, function, traceback, frame, or code object\"]\n",
      "Tool output saved to ../tool_output/tool_output_pytorch_scipy_test.html\n"
     ]
    },
    {
     "name": "stderr",
     "output_type": "stream",
     "text": [
      "\n"
     ]
    }
   ],
   "source": [
    "# this is to correctly remove the user specific part of the file path, e.g. /Users/Alex/Desktop etc. \n",
    "# from the extracted functions source file location\n",
    "#package_name_in_root = 'tensorflow'\n",
    "package_name_in_root = 'scipy'\n",
    "doc_name_ending = '_test'\n",
    "\n",
    "def get_function_file_location(extracted_function, _package_name='tensorflow'):\n",
    "    \"\"\"For step 1. Find where the function is defined.\"\"\"\n",
    "    \n",
    "    # use the extracted_function string as if it were code, since 'inspect' can't deal with strings\n",
    "    str_to_execute = 'extracted_function_file_location = inspect.getsourcefile({})'.format(extracted_function)\n",
    "    \n",
    "    # get local scope (necessary since exec does not work well inside of function definition scopes)\n",
    "    lcls = locals()\n",
    "    \n",
    "    # execute the string as if it were code, setting the file location variable in the local scope\n",
    "    exec(str_to_execute, globals(), lcls)\n",
    "    \n",
    "    # getting the variable from the local scope\n",
    "    extracted_function_file_location = lcls[\"extracted_function_file_location\"]\n",
    "    \n",
    "    print(extracted_function_file_location)\n",
    "    \n",
    "    # remove the package root to get the relative file path \n",
    "    package_root_index = extracted_function_file_location.index(_package_name)\n",
    "    extracted_function_file_location = extracted_function_file_location[package_root_index:]\n",
    "    \n",
    "    return extracted_function_file_location\n",
    "\n",
    "\n",
    "def get_nearest_commit(version_date):\n",
    "    \"\"\"For step 2. Return commit ID and message of the nearest commit on or before version_date.\"\"\"\n",
    "    git_log_output = ''\n",
    "    days = 1\n",
    "    while git_log_output == '':\n",
    "        git_log_command = [\"git\", \"log\", \"--since\", (version_date-timedelta(days=days)).strftime(\"%m-%d-%Y\"), \"--until\", version_date.strftime(\"%d-%m-%Y\")]\n",
    "        #, \"--\", extracted_function_file_location]\n",
    "        git_log_output = subprocess.run(git_log_command, stdout=subprocess.PIPE).stdout.decode('utf-8')\n",
    "        \n",
    "        #print(\"-\" + str(days) + \" \" + git_log_output)\n",
    "        \n",
    "        days += 1\n",
    "        \n",
    "        # exit condition for when search takes too long\n",
    "        if days > 100:\n",
    "            return 'ERROR', 'No commit within 100 days of the entered date.', version_date\n",
    "            \n",
    "\n",
    "    commit_id = git_log_output[7:].splitlines()[0]\n",
    "    \n",
    "    commit_message_command = [\"git\", \"log\", \"--format=%B\", \"-n\", \"1\", commit_id]\n",
    "    commit_message = subprocess.run(commit_message_command, stdout=subprocess.PIPE).stdout.decode('utf-8')\n",
    "    \n",
    "    commit_date = version_date-timedelta(days=days-2)\n",
    "    \n",
    "    return commit_id, commit_message, commit_date\n",
    "\n",
    "\n",
    "def format_line_beginning(line):\n",
    "    line_beginning = []\n",
    "    for char in line:\n",
    "        if char == ' ':\n",
    "            line_beginning.append('&nbsp')\n",
    "        else:\n",
    "            break\n",
    "\n",
    "    separator = ' '\n",
    "    formatted_line = separator.join(line_beginning)\n",
    "    formatted_line += line.lstrip()\n",
    "    \n",
    "    return formatted_line\n",
    "\n",
    "\n",
    "def get_git_diff_output_formatted(commit_id_current, commit_id_desired, extracted_function_file_location):\n",
    "    git_diff_command = [\"git\", \"diff\", commit_id_current, commit_id_desired, \"--\", extracted_function_file_location]\n",
    "\n",
    "    git_diff_output = subprocess.run(git_diff_command, stdout=subprocess.PIPE).stdout.decode('utf-8')\n",
    "    \n",
    "    git_diff_processed = ''\n",
    "    for line in git_diff_output.splitlines():\n",
    "        if line.startswith('-'):\n",
    "            line = line[1:]\n",
    "            git_diff_processed += \"<span style=\\\"color:red\\\">- \" + format_line_beginning(line) + \"</span>\\n\"\n",
    "        \n",
    "        elif line.startswith('+'):\n",
    "            line = line[1:]\n",
    "            git_diff_processed += \"<span style=\\\"color:green\\\">+\" + format_line_beginning(line) + \"</span>\\n\"\n",
    "        \n",
    "        elif line.startswith(' '):\n",
    "            git_diff_processed += format_line_beginning(line) + \"\\n\"\n",
    "            \n",
    "        else:\n",
    "            git_diff_processed += line + \"\\n\"\n",
    "    \n",
    "    # formatting for html\n",
    "    git_diff_processed = git_diff_processed.replace('\\n', '\\n<br>')#.replace(' ', '&nbsp ')\n",
    "    \n",
    "    return git_diff_processed\n",
    "\n",
    "\n",
    "\n",
    "tool_output_destination = \"../tool_output/tool_output_{}_{}{}.html\".format(dll_name, package_name, doc_name_ending)\n",
    "tool_output = open(tool_output_destination, \"w+\", encoding='utf-8')\n",
    "tool_output.write(\"\"\"\n",
    "    <!DOCTYPE html>\n",
    "    <html>\n",
    "    <head>\n",
    "    <style>\n",
    "    .collapsible {\n",
    "      background-color: #777;\n",
    "      color: white;\n",
    "      cursor: pointer;\n",
    "      padding: 18px;\n",
    "      width: 100%;\n",
    "      border: none;\n",
    "      text-align: left;\n",
    "      outline: none;\n",
    "      font-size: 15px;\n",
    "    }\n",
    "\n",
    "    .active, .collapsible:hover {\n",
    "      background-color: #555;\n",
    "    }\n",
    "\n",
    "    .content {\n",
    "      padding: 0 18px;\n",
    "      display: none;\n",
    "      overflow: hidden;\n",
    "      background-color: #f1f1f1;\n",
    "    }\n",
    "    </style>\n",
    "    </head>\n",
    "    <body>\\n\n",
    "\"\"\")\n",
    "\n",
    "error_list = []\n",
    "extr_func_file_location_list = []\n",
    "\n",
    "for extracted_function in relevant_test_cases.Differential_Test_Function:\n",
    "\n",
    "    # 1:   \n",
    "    try:\n",
    "        extracted_function_file_location = get_function_file_location(extracted_function, _package_name=package_name_in_root)\n",
    "        #print(extracted_function_file_location)\n",
    "    except Exception as exc:\n",
    "        error_list.append(extracted_function + \" : \" + str(exc))\n",
    "        extr_func_file_location_list.append(\"ERROR\")\n",
    "        continue\n",
    "    \n",
    "    extr_func_file_location_list.append(extracted_function_file_location)\n",
    "    \n",
    "relevant_test_cases.loc[:, 'Extracted_Function_File_Location'] = extr_func_file_location_list\n",
    "#.insert(-1, 'Extracted_Function_File_Location', extr_func_file_location_list)\n",
    "\n",
    "#display(relevant_test_cases)\n",
    "\n",
    "\n",
    "# 2:, commit_date_current\n",
    "#commit_id_current, commit_message_current = get_nearest_commit(current_version_date)\n",
    "commit_id_current, commit_message_current, commit_date_current = get_nearest_commit(current_version_date)\n",
    "tool_output.write(\"\\n <br>Commit id closest to current version: \" + commit_id_current + \"\\n<br>Date: \" + commit_date_current.strftime(\"%d-%b-%Y\") + \"\\n\")\n",
    "tool_output.write(\"\\n <br>Commit message: \" + commit_message_current.replace('\\n', '<br>') + \"\\n\")\n",
    "\n",
    "commit_id_desired, commit_message_desired, commit_date_desired = get_nearest_commit(desired_version_date)\n",
    "tool_output.write(\"<br>Commit id closest to desired version: \" + commit_id_desired + \"\\n<br>Date: \" + commit_date_desired.strftime(\"%d-%b-%Y\") + \"\\n\")\n",
    "tool_output.write(\"\\n <br>Commit message: \" + commit_message_desired.replace('\\n', '<br>') + \"\\n<br>\")\n",
    "\n",
    "\n",
    "for extracted_function_file_location in tqdm(relevant_test_cases.Extracted_Function_File_Location.unique()):\n",
    "    \n",
    "    tool_output.write(\"_____________________________________\" + extracted_function_file_location + \"_________________________________________\\n\")\n",
    "    \n",
    "    tool_output.write(relevant_test_cases[relevant_test_cases['Extracted_Function_File_Location'] == extracted_function_file_location].to_html())\n",
    "    tool_output.write(\"\\n<br>\")\n",
    "    \n",
    "    \n",
    "    # 3:\n",
    "    git_diff_processed = get_git_diff_output_formatted(commit_id_current, commit_id_desired, extracted_function_file_location)\n",
    "    \n",
    "    # also include the git diff of the file that the test case was found in:\n",
    "    #git_diff_processed += \"\\n<br>\" + get_git_diff_output_formatted(commit_id_current, commit_id_desired, 'tensorflow/python/kernel_tests/rnn_test.py')\n",
    "    \n",
    "    # add git diff as collapsible section\n",
    "    tool_output.write(\"<button type=\\\"button\\\" class=\\\"collapsible\\\">Git Diff</button>\\n<div class=\\\"content\\\">\\n<p>\" + git_diff_processed + \"</p>\\n</div>\\n<br><br><br>\")\n",
    "\n",
    "# Add script to html to make git diff collapsible\n",
    "tool_output.write(\"\"\"\n",
    "<br>\n",
    "<script>\n",
    "var coll = document.getElementsByClassName(\"collapsible\");\n",
    "var i;\n",
    "\n",
    "for (i = 0; i < coll.length; i++) {\n",
    "  coll[i].addEventListener(\"click\", function() {\n",
    "    this.classList.toggle(\"active\");\n",
    "    var content = this.nextElementSibling;\n",
    "    if (content.style.display === \"block\") {\n",
    "      content.style.display = \"none\";\n",
    "    } else {\n",
    "      content.style.display = \"block\";\n",
    "    }\n",
    "  });\n",
    "}\n",
    "</script>\n",
    "</body>\n",
    "</html>\"\"\")\n",
    "tool_output.close()\n",
    "print(str(len(error_list)) + \" errors: \" + str(error_list))\n",
    "print(\"Tool output saved to \" + tool_output_destination)"
   ]
  },
  {
   "cell_type": "code",
   "execution_count": 79,
   "id": "c96408cd",
   "metadata": {},
   "outputs": [],
   "source": [
    "# open tool output\n",
    "!open {tool_output_destination}"
   ]
  },
  {
   "cell_type": "code",
   "execution_count": 33,
   "id": "a364e6ce",
   "metadata": {},
   "outputs": [],
   "source": [
    "current_version_date = date(2019,10,7)#date(2018,11,6) # release date of TF 1.12.0 is 2018, 11, 6\n",
    "desired_version_date = date(2019,10,18)"
   ]
  },
  {
   "cell_type": "markdown",
   "id": "ba304f42",
   "metadata": {},
   "source": [
    "## Install section (for testing)"
   ]
  },
  {
   "cell_type": "code",
   "execution_count": null,
   "id": "22132e1a",
   "metadata": {},
   "outputs": [],
   "source": [
    "!python --version"
   ]
  },
  {
   "cell_type": "code",
   "execution_count": null,
   "id": "093b1a17",
   "metadata": {
    "scrolled": true
   },
   "outputs": [],
   "source": [
    "# install the package (TODO if not already installed)\n",
    "!{sys.executable} -m pip install {package_name}==2.2.4"
   ]
  },
  {
   "cell_type": "code",
   "execution_count": null,
   "id": "8002a443",
   "metadata": {
    "scrolled": true
   },
   "outputs": [],
   "source": [
    "!{sys.executable} -m pip install theano==1.0.3"
   ]
  },
  {
   "cell_type": "code",
   "execution_count": null,
   "id": "84e5d612",
   "metadata": {
    "scrolled": true
   },
   "outputs": [],
   "source": [
    "!{sys.executable} -m pip install tensorflow==1.12.0"
   ]
  },
  {
   "cell_type": "code",
   "execution_count": null,
   "id": "07d5f44b",
   "metadata": {},
   "outputs": [],
   "source": [
    "%pip install tensorflow==1.12.0"
   ]
  },
  {
   "cell_type": "code",
   "execution_count": null,
   "id": "39a513bd",
   "metadata": {},
   "outputs": [],
   "source": [
    "!{sys.executable} -m pip show keras"
   ]
  },
  {
   "cell_type": "code",
   "execution_count": null,
   "id": "55996067",
   "metadata": {},
   "outputs": [],
   "source": [
    "!{sys.executable} --version"
   ]
  },
  {
   "cell_type": "code",
   "execution_count": null,
   "id": "78f4c2b2",
   "metadata": {},
   "outputs": [],
   "source": [
    "sys.executable"
   ]
  },
  {
   "cell_type": "code",
   "execution_count": null,
   "id": "defc85e4",
   "metadata": {},
   "outputs": [],
   "source": [
    "!python -V"
   ]
  },
  {
   "cell_type": "code",
   "execution_count": null,
   "id": "fbabbcca",
   "metadata": {},
   "outputs": [],
   "source": [
    "inspect.getsourcefile(scipy.linalg.cholesky)"
   ]
  },
  {
   "cell_type": "markdown",
   "id": "e083430b",
   "metadata": {},
   "source": [
    "## TESTING SECTION:"
   ]
  },
  {
   "cell_type": "code",
   "execution_count": null,
   "id": "eef7618c",
   "metadata": {},
   "outputs": [],
   "source": [
    "from scipy import *"
   ]
  },
  {
   "cell_type": "code",
   "execution_count": null,
   "id": "52b9d086",
   "metadata": {},
   "outputs": [],
   "source": [
    "# OLD CODE GIT LOG SECTION\n",
    "\n",
    "# 1:\n",
    "\n",
    "# get extracted function as string\n",
    "#extracted_function = relevant_test_cases.iloc[case_id]['Differential_Test_Function']\n",
    "\n",
    "# get the package root and remove it from the file path. This relative file path is necessary for a git diff\n",
    "#package_root = ''\n",
    "#exec('package_root = inspect.getsourcefile({})'.format(package_name))\n",
    "# remove the init.py part from the path\n",
    "#package_root = package_root.replace('__init__.py', '')\n",
    "#print(package_root)\n"
   ]
  },
  {
   "cell_type": "code",
   "execution_count": null,
   "id": "74e6b44d",
   "metadata": {},
   "outputs": [],
   "source": [
    "!start .\n",
    "#os.system(\"git log --oneline -- {extracted_function_file_location}\")\n",
    "# --since \"20-06-2021 00:00:00\" -p"
   ]
  },
  {
   "cell_type": "code",
   "execution_count": null,
   "id": "053271d0",
   "metadata": {
    "scrolled": true
   },
   "outputs": [],
   "source": [
    "# helper for finding where functions are defined\n",
    "print(inspect.getsourcefile(np.sum) + \"\\n\")\n",
    "#print(inspect.getsource(np.array))"
   ]
  },
  {
   "cell_type": "code",
   "execution_count": null,
   "id": "c0ee5295",
   "metadata": {},
   "outputs": [],
   "source": [
    "# Different git urls:\n",
    "#git_url = \"https://github.com/pytorch/pytorch.git\"\n",
    "#git_url = \"https://github.com/scipy/scipy.git\"\n",
    "#git_url = \"https://github.com/keras-team/keras.git\""
   ]
  },
  {
   "cell_type": "markdown",
   "id": "0f708356",
   "metadata": {},
   "source": [
    "### Testing git log functions\n",
    "\n",
    "-p shows the diffs\n",
    "\n",
    "Hunks of differences are in the format @@ from-file-range to-file-range @@ [header].  \n",
    "The from-file-range is in the form -\\<start line\\>,\\<number of lines\\>, and to-file-range is +\\<start line\\>,\\<number of lines\\>"
   ]
  },
  {
   "cell_type": "code",
   "execution_count": null,
   "id": "fe6f9766",
   "metadata": {},
   "outputs": [],
   "source": [
    "#command = [\"git\", \"log\", \"--oneline\", \"--name-only\", \"--since\", current_version_date, \"--until\", desired_version_date, \"--\", extracted_function_file_location]\n",
    "#command = [\"git\", \"log\", \"--oneline\", \"--since\", current_version_date, \"--until\", desired_version_date, \"--\", extracted_function_file_location]\n",
    "#command = [\"git\", \"log\", \"--oneline\", \"--since\", current_version_date-timedelta(days=1), \"--until\", current_version_date, \"--\", extracted_function_file_location]\n",
    "#command = [\"git\", \"log\", \"--oneline\", \"--\", extracted_function_file_location]"
   ]
  },
  {
   "cell_type": "code",
   "execution_count": null,
   "id": "2d63b6be",
   "metadata": {},
   "outputs": [],
   "source": [
    "!git log --oneline -- tensorflow\\\\python\\\\keras\\\\layers\\\\recurrent.py"
   ]
  },
  {
   "cell_type": "code",
   "execution_count": null,
   "id": "f389dcfd",
   "metadata": {},
   "outputs": [],
   "source": [
    "!git log --since 10-6-2019 --until 10-7-2019"
   ]
  },
  {
   "cell_type": "code",
   "execution_count": null,
   "id": "31eba542",
   "metadata": {},
   "outputs": [],
   "source": [
    "!git diff 47c368bcc8d717ec6624d33152784338b99f6dea 8a05bdf333f34603b33c0f3a029e023deb27ae04 -- tensorflow/python/keras/layers/recurrent.py"
   ]
  },
  {
   "cell_type": "code",
   "execution_count": null,
   "id": "ea2a3512",
   "metadata": {},
   "outputs": [],
   "source": [
    "extracted_function_file_location"
   ]
  },
  {
   "cell_type": "code",
   "execution_count": null,
   "id": "8643bbc1",
   "metadata": {
    "scrolled": true
   },
   "outputs": [],
   "source": [
    "!git log --since=\"3 hours ago\" --pretty=oneline"
   ]
  },
  {
   "cell_type": "code",
   "execution_count": null,
   "id": "5d547430",
   "metadata": {},
   "outputs": [],
   "source": [
    "!git log --name-only --date=local --since \"20-06-2021 00:00:00\" "
   ]
  },
  {
   "cell_type": "code",
   "execution_count": null,
   "id": "71e5ccfe",
   "metadata": {
    "scrolled": true
   },
   "outputs": [],
   "source": [
    "!git log --name-only --oneline --since \"20-06-2021 00:00:00\""
   ]
  },
  {
   "cell_type": "code",
   "execution_count": null,
   "id": "a9d6369e",
   "metadata": {
    "scrolled": false
   },
   "outputs": [],
   "source": [
    "!git log --name-only --oneline --since \"20-06-2021 00:00:00\"\n",
    "#--since \"20-06-2021 00:00:00\" -p -- scipy/special/_basic.py"
   ]
  }
 ],
 "metadata": {
  "kernelspec": {
   "display_name": "Python 3",
   "language": "python",
   "name": "python3"
  },
  "language_info": {
   "codemirror_mode": {
    "name": "ipython",
    "version": 3
   },
   "file_extension": ".py",
   "mimetype": "text/x-python",
   "name": "python",
   "nbconvert_exporter": "python",
   "pygments_lexer": "ipython3",
   "version": "3.6.13"
  }
 },
 "nbformat": 4,
 "nbformat_minor": 5
}
