{
 "cells": [
  {
   "cell_type": "markdown",
   "id": "2162999f",
   "metadata": {},
   "source": [
    "# Finding differential test cases\n",
    "\n",
    "The goal of this notebook is to identify and extract all differential test cases and store the functions that are used as oracles. These functions can then be checked for changes whenever developers make a new commit that the tool's user might want to know about."
   ]
  },
  {
   "cell_type": "markdown",
   "id": "8956cc3f",
   "metadata": {},
   "source": [
    "## Imports"
   ]
  },
  {
   "cell_type": "code",
   "execution_count": 1,
   "id": "f8ca70f8",
   "metadata": {},
   "outputs": [],
   "source": [
    "import ast\n",
    "import sys"
   ]
  },
  {
   "cell_type": "markdown",
   "id": "97a2a58a",
   "metadata": {},
   "source": [
    "## Import source code and create Abstract Syntax Tree\n",
    "\n",
    "\n",
    "An abstract syntax tree represents source code as a tree, where each node is an element of the source code, e.g. a function definition, function call, if-else statement, while-loop, variable assignment etc. It abstracts away e.g. grouping parentheses, because these groupings are implicitly defined in the tree's structure.\n",
    "\n",
    "<img style=\"float: right;\" src=\"images/abstract_syntax_tree.png\" width=\"450\">\n",
    "\n",
    "This code produces the following tree:\n",
    "```\n",
    "while b ≠ 0\n",
    "  if a > b\n",
    "    a := a − b\n",
    "  else\n",
    "    b := b − a\n",
    "return a\n",
    "```\n",
    "\n",
    "<br><br><br><br><br><br><br><br><br><br><br><br><br><br><br><br><br><br><br>\n",
    "<div style=\"text-align: right\"> <i> Source https://en.wikipedia.org/wiki/Abstract_syntax_tree </i> </div>"
   ]
  },
  {
   "cell_type": "code",
   "execution_count": 26,
   "id": "6de68e3d",
   "metadata": {},
   "outputs": [],
   "source": [
    "# Set tensorflow root folder\n",
    "tensorflow_root = \"A:/BachelorThesis/DLL_Testing_Tool/DL_Libraries/Tensorflow/tensorflow-master/tensorflow/python/\" \n",
    "\n",
    "# set python source file\n",
    "source = open(tensorflow_root + \"kernel_tests/array_ops/gather_op_test.py\")\n",
    "\n",
    "# generate abstract syntax tree\n",
    "tree = ast.parse(source.read())"
   ]
  },
  {
   "cell_type": "markdown",
   "id": "d02e89a7",
   "metadata": {},
   "source": [
    "## Identify assert function calls and check if the arguments are differential test oracles"
   ]
  },
  {
   "cell_type": "markdown",
   "id": "9e0260e0",
   "metadata": {},
   "source": [
    "TODO:\n",
    "\n",
    "* Check arguments of assert calls for differential testing oracles\n",
    "\n",
    "*Resource https://greentreesnakes.readthedocs.io/en/latest/manipulating.html*"
   ]
  },
  {
   "cell_type": "code",
   "execution_count": 28,
   "id": "0567621f",
   "metadata": {},
   "outputs": [],
   "source": [
    "# Define which assert functions to look for\n",
    "approximation_asserts = [\"assertAlmostEqual\", \"assertAlmostEquals\", \"assertAllClose\", \"assertAllLessEqual\",\n",
    "                         \"assertAllCloseAccordingToType\", \"assertArrayNear\", \"assert_list_pairwise\",\n",
    "                         \"assertNear\", \"assertLess\", \"assertAllLess\", \"assertLessEqual\", \n",
    "                         \"assertNDArrayNear\", \"assert_allclose\", \"assert_array_almost_equal\",\n",
    "                         \"assert_almost_equal\",\"assert_array_less\", \n",
    "                         \"isclose\", \"allclose\", \"gradcheck\", \"gradgradcheck\"]\n",
    "\n",
    "# TODO Check for these too?\n",
    "bool_asserts = [\"assertTrue\", \"assertFalse\",\"assertIs\",\"assertIsNot\"]\n",
    "\n",
    "other_asserts = [\"assertAllEqual\",\"assertEquals\", \"assertEqual\", \"assertAllGreater\",\n",
    "                                                          \"assertAllGreaterEqual\", \"assertAllInRange\", \"assertAllInSet\",\n",
    "                                                          \"assertCountEqual\", \"assertDTypeEqual\", \"assertDictEqual\",\n",
    "                                                          \"assertSequenceEqual\", \"assertShapeEqual\",\n",
    "                                                          \"assertTupleEqual\", \"assert_array_equal\"]"
   ]
  },
  {
   "cell_type": "markdown",
   "id": "3317ce0f",
   "metadata": {},
   "source": [
    "### Traversing the tree via NodeVisitor\n",
    "\n",
    "Since we are only interested in functions calls within the library's testing code, we use `visit_Call` to check each function call node if it is (1) an assert call and (2) if it uses a differential test oracle, i.e. another function call for comparison. "
   ]
  },
  {
   "cell_type": "code",
   "execution_count": 39,
   "id": "a4e16965",
   "metadata": {},
   "outputs": [
    {
     "name": "stdout",
     "output_type": "stream",
     "text": [
      "______________assertAllClose______________\n",
      "Call(\n",
      "\tfunc=Attribute(\n",
      "\t\tvalue=Name(id='self', ctx=Load()),\n",
      "\t\tattr='assertAllClose',\n",
      "\t\tctx=Load()),\n",
      "\targs=[\n",
      "\t\tName(id='correct_params_grad', ctx=Load()),\n",
      "\t\tCall(\n",
      "\t\t\tfunc=Attribute(\n",
      "\t\t\t\tvalue=Name(id='self', ctx=Load()),\n",
      "\t\t\t\tattr='evaluate',\n",
      "\t\t\t\tctx=Load()),\n",
      "\t\t\targs=[\n",
      "\t\t\t\tName(id='params_grad', ctx=Load())],\n",
      "\t\t\tkeywords=[])],\n",
      "\tkeywords=[\n",
      "\t\tkeyword(\n",
      "\t\t\targ='atol',\n",
      "\t\t\tvalue=Constant(value=2e-06)),\n",
      "\t\tkeyword(\n",
      "\t\t\targ='rtol',\n",
      "\t\t\tvalue=Constant(value=2e-06))])\n",
      "\n",
      "______________assertAllClose______________\n",
      "Call(\n",
      "\tfunc=Attribute(\n",
      "\t\tvalue=Name(id='self', ctx=Load()),\n",
      "\t\tattr='assertAllClose',\n",
      "\t\tctx=Load()),\n",
      "\targs=[\n",
      "\t\tName(id='correct_params_grad', ctx=Load()),\n",
      "\t\tCall(\n",
      "\t\t\tfunc=Attribute(\n",
      "\t\t\t\tvalue=Name(id='self', ctx=Load()),\n",
      "\t\t\t\tattr='evaluate',\n",
      "\t\t\t\tctx=Load()),\n",
      "\t\t\targs=[\n",
      "\t\t\t\tName(id='params_grad', ctx=Load())],\n",
      "\t\t\tkeywords=[])],\n",
      "\tkeywords=[\n",
      "\t\tkeyword(\n",
      "\t\t\targ='atol',\n",
      "\t\t\tvalue=Constant(value=2e-06)),\n",
      "\t\tkeyword(\n",
      "\t\t\targ='rtol',\n",
      "\t\t\tvalue=Constant(value=2e-06))])\n",
      "\n"
     ]
    }
   ],
   "source": [
    "class TreeTraverser(ast.NodeVisitor):\n",
    "    def visit_Call(self, node):\n",
    "        \n",
    "        # (1) Identify if it is an assert call that we are looking for:\n",
    "        \n",
    "        # for nodes that call a function directly (statically), e.g. assert(...)\n",
    "        # this is usually not the case for asserts\n",
    "        if isinstance(node.func, ast.Name):\n",
    "            \n",
    "             # if the name of the called function contains \"assert\"\n",
    "            if 'assert' in node.func.id:\n",
    "                print(\"NEW FOUND: \" + node.func.id)\n",
    "            \n",
    "        \n",
    "        # for nodes that call a function of an object, e.g. self.assert(...)\n",
    "        elif isinstance(node.func, ast.Attribute):\n",
    "            \n",
    "            # if the name of the called function is one we are searching for\n",
    "            if node.func.attr in approximation_asserts:\n",
    "                \n",
    "                # print the function name\n",
    "                print(\"______________\" + node.func.attr + \"______________\")\n",
    "                \n",
    "                # print the node and its structure\n",
    "                print(ast.dump(node, indent='\\t') + '\\n')\n",
    "                \n",
    "                # TODO (2) Identify if the assert call uses a differential test oracle:\n",
    "                \n",
    "                \n",
    "                \n",
    "        \n",
    "        # visit child nodes (neccessary?)\n",
    "        self.generic_visit(node)\n",
    "\n",
    "TreeTraverser().visit(tree)"
   ]
  }
 ],
 "metadata": {
  "kernelspec": {
   "display_name": "Python 3",
   "language": "python",
   "name": "python3"
  },
  "language_info": {
   "codemirror_mode": {
    "name": "ipython",
    "version": 3
   },
   "file_extension": ".py",
   "mimetype": "text/x-python",
   "name": "python",
   "nbconvert_exporter": "python",
   "pygments_lexer": "ipython3",
   "version": "3.9.4"
  }
 },
 "nbformat": 4,
 "nbformat_minor": 5
}
