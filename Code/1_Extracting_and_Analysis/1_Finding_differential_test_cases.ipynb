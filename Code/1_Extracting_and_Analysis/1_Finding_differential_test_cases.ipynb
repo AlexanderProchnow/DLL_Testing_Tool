{
 "cells": [
  {
   "cell_type": "markdown",
   "id": "2162999f",
   "metadata": {},
   "source": [
    "# Finding differential test cases\n",
    "\n",
    "The goal of this notebook is to identify and extract all differential test cases and store the functions that are used as oracles. These functions can then be checked for changes whenever developers make a new commit that the tool's user might want to know about."
   ]
  },
  {
   "cell_type": "markdown",
   "id": "8956cc3f",
   "metadata": {},
   "source": [
    "## Imports"
   ]
  },
  {
   "cell_type": "code",
   "execution_count": 2,
   "id": "f8ca70f8",
   "metadata": {},
   "outputs": [],
   "source": [
    "import ast\n",
    "import sys"
   ]
  },
  {
   "cell_type": "markdown",
   "id": "97a2a58a",
   "metadata": {},
   "source": [
    "## Import source code and create Abstract Syntax Tree\n",
    "\n",
    "\n",
    "An abstract syntax tree represents source code as a tree, where each node is an element of the source code, e.g. a function definition, function call, if-else statement, while-loop, variable assignment etc. It abstracts away e.g. grouping parentheses, because these groupings are implicitly defined in the tree's structure.\n",
    "\n",
    "<img style=\"float: right;\" src=\"images/abstract_syntax_tree.png\" width=\"450\">\n",
    "\n",
    "This code produces the following tree:\n",
    "```\n",
    "while b ≠ 0\n",
    "  if a > b\n",
    "    a := a − b\n",
    "  else\n",
    "    b := b − a\n",
    "return a\n",
    "```\n",
    "\n",
    "<br><br><br><br><br><br><br><br><br><br><br><br><br><br><br><br><br><br><br>\n",
    "<div style=\"text-align: right\"> <i> Source https://en.wikipedia.org/wiki/Abstract_syntax_tree </i> </div>"
   ]
  },
  {
   "cell_type": "code",
   "execution_count": 8,
   "id": "6de68e3d",
   "metadata": {},
   "outputs": [
    {
     "name": "stdout",
     "output_type": "stream",
     "text": [
      "_to_str_elements\n",
      "_buildParams\n",
      "testScalar1D\n",
      "testScalar2D\n",
      "testSimpleTwoD32\n",
      "testHigherRank\n",
      "testHigherRankGradientTape\n",
      "testString\n",
      "testUInt32AndUInt64\n",
      "testUnknownIndices\n",
      "testUnknownAxis\n",
      "testBadIndicesType\n",
      "testBadIndicesCPU\n",
      "_disabledTestBadIndicesGPU\n",
      "testBadAxis\n",
      "testEmptySlices\n",
      "testBatchDims\n",
      "testBatchDimsMatchesPythonBatching\n",
      "_batchNumpyGather\n",
      "testGatherRefVariable\n",
      "testGatherResourceVariable\n"
     ]
    }
   ],
   "source": [
    "# Set tensorflow root folder\n",
    "tensorflow_root = \"A:/BachelorThesis/DLL_Testing_Tool/DL_Libraries/Tensorflow/tensorflow-master/tensorflow/python/\" \n",
    "\n",
    "# set python source file\n",
    "source = open(tensorflow_root + \"kernel_tests/array_ops/gather_op_test.py\")\n",
    "\n",
    "# generate abstract syntax tree\n",
    "tree = ast.parse(source.read())\n",
    "nodes = ast.walk(ast.parse(tree))\n",
    "\n",
    "# print names of all defined functions in the source file\n",
    "for node in nodes:\n",
    "    if isinstance(node, ast.FunctionDef):\n",
    "        print(node.name)"
   ]
  },
  {
   "cell_type": "markdown",
   "id": "d02e89a7",
   "metadata": {},
   "source": [
    "## Identify assert function calls and check if the arguments are differential test oracles"
   ]
  },
  {
   "cell_type": "code",
   "execution_count": 9,
   "id": "231eae9d",
   "metadata": {},
   "outputs": [],
   "source": [
    "for node in nodes:\n",
    "    # if the node is a function call\n",
    "    if isinstance(node, ast.Call):\n",
    "        \n",
    "        # if the function is an assertAllClose:\n",
    "        if hasattr(node.func, \"attr\"):\n",
    "            if node.func.attr == \"assertAllClose\":\n",
    "                \n",
    "                # if the function has arguments\n",
    "                if hasattr(node, \"args\"):\n",
    "                    # for each argument of the function\n",
    "                    for arg in node.args:\n",
    "                        print(node.args.name)\n",
    "                        \n",
    "                        #if isinstance(arg,ast.Num):\n",
    "                           # fields = vars(arg) "
   ]
  }
 ],
 "metadata": {
  "kernelspec": {
   "display_name": "Python 3",
   "language": "python",
   "name": "python3"
  },
  "language_info": {
   "codemirror_mode": {
    "name": "ipython",
    "version": 3
   },
   "file_extension": ".py",
   "mimetype": "text/x-python",
   "name": "python",
   "nbconvert_exporter": "python",
   "pygments_lexer": "ipython3",
   "version": "3.9.4"
  }
 },
 "nbformat": 4,
 "nbformat_minor": 5
}
